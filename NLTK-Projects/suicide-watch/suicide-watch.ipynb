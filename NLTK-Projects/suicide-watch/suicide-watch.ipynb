{
 "cells": [
  {
   "cell_type": "code",
   "execution_count": 1,
   "metadata": {},
   "outputs": [
    {
     "name": "stderr",
     "output_type": "stream",
     "text": [
      "<ipython-input-1-a46753b164f9>:4: TqdmDeprecationWarning: This function will be removed in tqdm==5.0.0\n",
      "Please use `tqdm.notebook.tqdm` instead of `tqdm.tqdm_notebook`\n",
      "  tqdm_notebook().pandas()\n"
     ]
    },
    {
     "data": {
      "application/vnd.jupyter.widget-view+json": {
       "model_id": "ee37d4b15aac4302a9a85cb13bf2017d",
       "version_major": 2,
       "version_minor": 0
      },
      "text/plain": [
       "HBox(children=(HTML(value=''), FloatProgress(value=1.0, bar_style='info', layout=Layout(width='20px'), max=1.0…"
      ]
     },
     "metadata": {},
     "output_type": "display_data"
    },
    {
     "name": "stderr",
     "output_type": "stream",
     "text": [
      "C:\\Users\\piyus\\anaconda3\\lib\\site-packages\\tqdm\\std.py:697: FutureWarning: The Panel class is removed from pandas. Accessing it from the top-level namespace will also be removed in the next version\n",
      "  from pandas import Panel\n"
     ]
    }
   ],
   "source": [
    "import pandas as pd\n",
    "import numpy as np \n",
    "from tqdm import tqdm, tqdm_notebook\n",
    "tqdm_notebook().pandas()\n",
    "import warnings\n",
    "warnings.filterwarnings('ignore')"
   ]
  },
  {
   "cell_type": "code",
   "execution_count": 2,
   "metadata": {},
   "outputs": [
    {
     "name": "stdout",
     "output_type": "stream",
     "text": [
      "\n"
     ]
    }
   ],
   "source": [
    "#df1=pd.read_csv(r'C:\\Users\\piyus\\Downloads\\suicide_watch\\Cleaned_Depression_Vs_Suicide.csv', lineterminator = '\\n')\n",
    "#df2=pd.read_csv(r'C:\\Users\\piyus\\Downloads\\suicide_watch\\pushshift_dep_2L.csv')\n",
    "#df3=pd.read_csv(r'C:\\Users\\piyus\\Downloads\\suicide_watch\\pushshift_SW_2L.csv')"
   ]
  },
  {
   "cell_type": "code",
   "execution_count": 3,
   "metadata": {},
   "outputs": [],
   "source": [
    "# df1=df1.sample(100000).reset_index(drop=True)"
   ]
  },
  {
   "cell_type": "code",
   "execution_count": 4,
   "metadata": {},
   "outputs": [],
   "source": [
    "#df1.to_csv('data.csv')"
   ]
  },
  {
   "cell_type": "code",
   "execution_count": 5,
   "metadata": {},
   "outputs": [],
   "source": [
    "df1=pd.read_csv('data.csv')\n",
    "df1.drop('Unnamed: 0',axis=1,inplace=True)"
   ]
  },
  {
   "cell_type": "code",
   "execution_count": 6,
   "metadata": {},
   "outputs": [
    {
     "name": "stdout",
     "output_type": "stream",
     "text": [
      "Index(['Post_id', 'Title', 'Body', 'Score', 'Publish_date',\n",
      "       'Total_no_of_comments', 'Over_18', 'Subreddit'],\n",
      "      dtype='object')\n"
     ]
    }
   ],
   "source": [
    "print(df1.columns)\n",
    "# print(df2.columns)\n",
    "# print(df3.columns)\n"
   ]
  },
  {
   "cell_type": "code",
   "execution_count": 7,
   "metadata": {},
   "outputs": [
    {
     "name": "stdout",
     "output_type": "stream",
     "text": [
      "(100000, 8)\n"
     ]
    }
   ],
   "source": [
    "print(df1.shape)\n",
    "# print(df2.shape)\n",
    "# print(df3.shape)"
   ]
  },
  {
   "cell_type": "code",
   "execution_count": 8,
   "metadata": {},
   "outputs": [
    {
     "name": "stdout",
     "output_type": "stream",
     "text": [
      "<class 'pandas.core.frame.DataFrame'>\n",
      "RangeIndex: 100000 entries, 0 to 99999\n",
      "Data columns (total 8 columns):\n",
      " #   Column                Non-Null Count   Dtype \n",
      "---  ------                --------------   ----- \n",
      " 0   Post_id               100000 non-null  object\n",
      " 1   Title                 100000 non-null  object\n",
      " 2   Body                  100000 non-null  object\n",
      " 3   Score                 100000 non-null  int64 \n",
      " 4   Publish_date          100000 non-null  object\n",
      " 5   Total_no_of_comments  100000 non-null  int64 \n",
      " 6   Over_18               100000 non-null  bool  \n",
      " 7   Subreddit             100000 non-null  object\n",
      "dtypes: bool(1), int64(2), object(5)\n",
      "memory usage: 5.4+ MB\n"
     ]
    }
   ],
   "source": [
    "df1.info()"
   ]
  },
  {
   "cell_type": "code",
   "execution_count": 9,
   "metadata": {},
   "outputs": [
    {
     "data": {
      "text/plain": [
       "SuicideWatch    0.52476\n",
       "depression      0.47524\n",
       "Name: Subreddit, dtype: float64"
      ]
     },
     "execution_count": 9,
     "metadata": {},
     "output_type": "execute_result"
    }
   ],
   "source": [
    "df1['Subreddit'].value_counts(normalize=True,dropna=False)"
   ]
  },
  {
   "cell_type": "code",
   "execution_count": 10,
   "metadata": {},
   "outputs": [
    {
     "name": "stdout",
     "output_type": "stream",
     "text": [
      "418\n"
     ]
    },
    {
     "data": {
      "text/plain": [
       "1      0.43158\n",
       "2      0.17452\n",
       "3      0.11050\n",
       "4      0.04464\n",
       "5      0.04103\n",
       "        ...   \n",
       "540    0.00001\n",
       "347    0.00001\n",
       "218    0.00001\n",
       "793    0.00001\n",
       "477    0.00001\n",
       "Name: Score, Length: 418, dtype: float64"
      ]
     },
     "execution_count": 10,
     "metadata": {},
     "output_type": "execute_result"
    }
   ],
   "source": [
    "print(df1['Score'].nunique())\n",
    "df1['Score'].value_counts(normalize=True,dropna=False)"
   ]
  },
  {
   "cell_type": "code",
   "execution_count": 11,
   "metadata": {},
   "outputs": [
    {
     "name": "stdout",
     "output_type": "stream",
     "text": [
      "198\n"
     ]
    },
    {
     "data": {
      "text/plain": [
       "1       0.20634\n",
       "0       0.16775\n",
       "2       0.15462\n",
       "3       0.10578\n",
       "4       0.07546\n",
       "         ...   \n",
       "138     0.00001\n",
       "297     0.00001\n",
       "361     0.00001\n",
       "147     0.00001\n",
       "1215    0.00001\n",
       "Name: Total_no_of_comments, Length: 198, dtype: float64"
      ]
     },
     "execution_count": 11,
     "metadata": {},
     "output_type": "execute_result"
    }
   ],
   "source": [
    "print(df1['Total_no_of_comments'].nunique())\n",
    "df1['Total_no_of_comments'].value_counts(normalize=True,dropna=False)"
   ]
  },
  {
   "cell_type": "code",
   "execution_count": 12,
   "metadata": {},
   "outputs": [
    {
     "name": "stdout",
     "output_type": "stream",
     "text": [
      "2\n"
     ]
    },
    {
     "data": {
      "text/plain": [
       "False    0.99821\n",
       "True     0.00179\n",
       "Name: Over_18, dtype: float64"
      ]
     },
     "execution_count": 12,
     "metadata": {},
     "output_type": "execute_result"
    }
   ],
   "source": [
    "print(df1['Over_18'].nunique())\n",
    "df1['Over_18'].value_counts(normalize=True,dropna=False)"
   ]
  },
  {
   "cell_type": "code",
   "execution_count": 13,
   "metadata": {},
   "outputs": [
    {
     "data": {
      "text/html": [
       "<div>\n",
       "<style scoped>\n",
       "    .dataframe tbody tr th:only-of-type {\n",
       "        vertical-align: middle;\n",
       "    }\n",
       "\n",
       "    .dataframe tbody tr th {\n",
       "        vertical-align: top;\n",
       "    }\n",
       "\n",
       "    .dataframe thead th {\n",
       "        text-align: right;\n",
       "    }\n",
       "</style>\n",
       "<table border=\"1\" class=\"dataframe\">\n",
       "  <thead>\n",
       "    <tr style=\"text-align: right;\">\n",
       "      <th>Over_18</th>\n",
       "      <th>False</th>\n",
       "      <th>True</th>\n",
       "    </tr>\n",
       "    <tr>\n",
       "      <th>Subreddit</th>\n",
       "      <th></th>\n",
       "      <th></th>\n",
       "    </tr>\n",
       "  </thead>\n",
       "  <tbody>\n",
       "    <tr>\n",
       "      <th>SuicideWatch</th>\n",
       "      <td>0.997618</td>\n",
       "      <td>0.002382</td>\n",
       "    </tr>\n",
       "    <tr>\n",
       "      <th>depression</th>\n",
       "      <td>0.998864</td>\n",
       "      <td>0.001136</td>\n",
       "    </tr>\n",
       "  </tbody>\n",
       "</table>\n",
       "</div>"
      ],
      "text/plain": [
       "Over_18          False     True \n",
       "Subreddit                       \n",
       "SuicideWatch  0.997618  0.002382\n",
       "depression    0.998864  0.001136"
      ]
     },
     "execution_count": 13,
     "metadata": {},
     "output_type": "execute_result"
    }
   ],
   "source": [
    "df1.groupby(['Subreddit']).apply(lambda x:x['Over_18'].value_counts(normalize=True,dropna=False))"
   ]
  },
  {
   "cell_type": "code",
   "execution_count": 14,
   "metadata": {},
   "outputs": [
    {
     "data": {
      "text/html": [
       "<div>\n",
       "<style scoped>\n",
       "    .dataframe tbody tr th:only-of-type {\n",
       "        vertical-align: middle;\n",
       "    }\n",
       "\n",
       "    .dataframe tbody tr th {\n",
       "        vertical-align: top;\n",
       "    }\n",
       "\n",
       "    .dataframe thead th {\n",
       "        text-align: right;\n",
       "    }\n",
       "</style>\n",
       "<table border=\"1\" class=\"dataframe\">\n",
       "  <thead>\n",
       "    <tr style=\"text-align: right;\">\n",
       "      <th>Subreddit</th>\n",
       "      <th>SuicideWatch</th>\n",
       "      <th>depression</th>\n",
       "    </tr>\n",
       "    <tr>\n",
       "      <th>Over_18</th>\n",
       "      <th></th>\n",
       "      <th></th>\n",
       "    </tr>\n",
       "  </thead>\n",
       "  <tbody>\n",
       "    <tr>\n",
       "      <th>False</th>\n",
       "      <td>0.524449</td>\n",
       "      <td>0.475551</td>\n",
       "    </tr>\n",
       "    <tr>\n",
       "      <th>True</th>\n",
       "      <td>0.698324</td>\n",
       "      <td>0.301676</td>\n",
       "    </tr>\n",
       "  </tbody>\n",
       "</table>\n",
       "</div>"
      ],
      "text/plain": [
       "Subreddit  SuicideWatch  depression\n",
       "Over_18                            \n",
       "False          0.524449    0.475551\n",
       "True           0.698324    0.301676"
      ]
     },
     "execution_count": 14,
     "metadata": {},
     "output_type": "execute_result"
    }
   ],
   "source": [
    "df1.groupby(['Over_18']).apply(lambda x:x['Subreddit'].value_counts(normalize=True,dropna=False))"
   ]
  },
  {
   "cell_type": "code",
   "execution_count": 15,
   "metadata": {},
   "outputs": [
    {
     "data": {
      "text/plain": [
       "True"
      ]
     },
     "execution_count": 15,
     "metadata": {},
     "output_type": "execute_result"
    }
   ],
   "source": [
    "df1['Post_id'].nunique()==len(df1)"
   ]
  },
  {
   "cell_type": "code",
   "execution_count": 16,
   "metadata": {},
   "outputs": [
    {
     "name": "stdout",
     "output_type": "stream",
     "text": [
      "Post_id                 0\n",
      "Title                   0\n",
      "Body                    0\n",
      "Score                   0\n",
      "Publish_date            0\n",
      "Total_no_of_comments    0\n",
      "Over_18                 0\n",
      "Subreddit               0\n",
      "dtype: int64\n"
     ]
    },
    {
     "data": {
      "text/html": [
       "<div>\n",
       "<style scoped>\n",
       "    .dataframe tbody tr th:only-of-type {\n",
       "        vertical-align: middle;\n",
       "    }\n",
       "\n",
       "    .dataframe tbody tr th {\n",
       "        vertical-align: top;\n",
       "    }\n",
       "\n",
       "    .dataframe thead th {\n",
       "        text-align: right;\n",
       "    }\n",
       "</style>\n",
       "<table border=\"1\" class=\"dataframe\">\n",
       "  <thead>\n",
       "    <tr style=\"text-align: right;\">\n",
       "      <th></th>\n",
       "      <th>Post_id</th>\n",
       "      <th>Title</th>\n",
       "      <th>Body</th>\n",
       "      <th>Score</th>\n",
       "      <th>Publish_date</th>\n",
       "      <th>Total_no_of_comments</th>\n",
       "      <th>Over_18</th>\n",
       "      <th>Subreddit</th>\n",
       "    </tr>\n",
       "  </thead>\n",
       "  <tbody>\n",
       "    <tr>\n",
       "      <th>0</th>\n",
       "      <td>7pqu7l</td>\n",
       "      <td>Is it normal to feel suicidal if your'e disabled?</td>\n",
       "      <td>Im suicidal because im disabled (autistic), im...</td>\n",
       "      <td>1</td>\n",
       "      <td>2018-01-11 20:03:57</td>\n",
       "      <td>2</td>\n",
       "      <td>False</td>\n",
       "      <td>SuicideWatch</td>\n",
       "    </tr>\n",
       "  </tbody>\n",
       "</table>\n",
       "</div>"
      ],
      "text/plain": [
       "  Post_id                                              Title  \\\n",
       "0  7pqu7l  Is it normal to feel suicidal if your'e disabled?   \n",
       "\n",
       "                                                Body  Score  \\\n",
       "0  Im suicidal because im disabled (autistic), im...      1   \n",
       "\n",
       "          Publish_date  Total_no_of_comments  Over_18     Subreddit  \n",
       "0  2018-01-11 20:03:57                     2    False  SuicideWatch  "
      ]
     },
     "execution_count": 16,
     "metadata": {},
     "output_type": "execute_result"
    }
   ],
   "source": [
    "print(df1.isna().sum())\n",
    "df1.head(1)"
   ]
  },
  {
   "cell_type": "code",
   "execution_count": 17,
   "metadata": {},
   "outputs": [
    {
     "name": "stdout",
     "output_type": "stream",
     "text": [
      "0    Is it normal to feel suicidal if your'e disabled?\n",
      "1         I don't think things can continue like this.\n",
      "2      Hate my home life, but have nowhere else to go.\n",
      "3                  I've started to stress-sleep again.\n",
      "4       I planned on going back to work an hour ago...\n",
      "Name: Title, dtype: object\n",
      "0    Im suicidal because im disabled (autistic), im...\n",
      "1    If the next 30 years are like the last 30, I a...\n",
      "2    My brother sleeps all day and parties all nigh...\n",
      "3    I used to do it before to escape the conscious...\n",
      "4    But I'm still in bed on my 'lunch break.' If a...\n",
      "Name: Body, dtype: object\n"
     ]
    }
   ],
   "source": [
    "# # manual check for text to identify the words manually\n",
    "# for i in df1.columns:\n",
    "#     print(i)\n",
    "#     print('     ', df1.loc[2,i]);\n",
    "#     print('>>>>>')\n",
    "print(df1['Title'].head())\n",
    "print(df1['Body'].head())"
   ]
  },
  {
   "cell_type": "code",
   "execution_count": 18,
   "metadata": {},
   "outputs": [],
   "source": [
    "df1['year']=pd.to_datetime(df1.Publish_date).dt.year\n",
    "df1['date']=pd.to_datetime(df1.Publish_date).dt.day\n",
    "df1['month']=pd.to_datetime(df1.Publish_date).dt.month\n",
    "df1['hour']=pd.to_datetime(df1.Publish_date).dt.hour"
   ]
  },
  {
   "cell_type": "code",
   "execution_count": 19,
   "metadata": {},
   "outputs": [
    {
     "data": {
      "text/plain": [
       "<AxesSubplot:xlabel='year', ylabel='count'>"
      ]
     },
     "execution_count": 19,
     "metadata": {},
     "output_type": "execute_result"
    },
    {
     "data": {
      "image/png": "[encoded data removed]",
      "text/plain": [
       "<Figure size 1152x288 with 1 Axes>"
      ]
     },
     "metadata": {
      "needs_background": "light"
     },
     "output_type": "display_data"
    }
   ],
   "source": [
    "import seaborn as sns\n",
    "import matplotlib.pyplot as plt\n",
    "plt.figure(figsize=(16,4))\n",
    "sns.countplot(x='year',data=df1,hue='Subreddit')"
   ]
  },
  {
   "cell_type": "code",
   "execution_count": 20,
   "metadata": {},
   "outputs": [
    {
     "data": {
      "text/plain": [
       "<AxesSubplot:xlabel='hour', ylabel='count'>"
      ]
     },
     "execution_count": 20,
     "metadata": {},
     "output_type": "execute_result"
    },
    {
     "data": {
      "image/png": "[encoded data removed]",
      "text/plain": [
       "<Figure size 1152x288 with 1 Axes>"
      ]
     },
     "metadata": {
      "needs_background": "light"
     },
     "output_type": "display_data"
    }
   ],
   "source": [
    "plt.figure(figsize=(16,4))\n",
    "sns.countplot(x='hour',data=df1,hue='Subreddit')"
   ]
  },
  {
   "cell_type": "code",
   "execution_count": 21,
   "metadata": {},
   "outputs": [
    {
     "data": {
      "text/plain": [
       "<AxesSubplot:xlabel='Over_18', ylabel='count'>"
      ]
     },
     "execution_count": 21,
     "metadata": {},
     "output_type": "execute_result"
    },
    {
     "data": {
      "image/png": "[encoded data removed]",
      "text/plain": [
       "<Figure size 1152x288 with 1 Axes>"
      ]
     },
     "metadata": {
      "needs_background": "light"
     },
     "output_type": "display_data"
    }
   ],
   "source": [
    "plt.figure(figsize=(16,4))\n",
    "sns.countplot(x='Over_18',data=df1,hue='Subreddit')"
   ]
  },
  {
   "cell_type": "code",
   "execution_count": 22,
   "metadata": {},
   "outputs": [],
   "source": [
    "df1.drop(['Post_id','Publish_date','Total_no_of_comments','Score','date','month'],axis=1,inplace=True)"
   ]
  },
  {
   "cell_type": "code",
   "execution_count": 23,
   "metadata": {},
   "outputs": [],
   "source": [
    "df1['Over_18']=df1['Over_18'].astype(int)"
   ]
  },
  {
   "cell_type": "code",
   "execution_count": 24,
   "metadata": {},
   "outputs": [],
   "source": [
    "df1['Subreddit']=df1['Subreddit'].map({'depression':0,'SuicideWatch':1})"
   ]
  },
  {
   "cell_type": "code",
   "execution_count": 25,
   "metadata": {},
   "outputs": [],
   "source": [
    "title =  df1['Title'].str.lower()"
   ]
  },
  {
   "cell_type": "code",
   "execution_count": 26,
   "metadata": {},
   "outputs": [],
   "source": [
    "import nltk\n",
    "from nltk.stem import SnowballStemmer,WordNetLemmatizer\n",
    "from sklearn.feature_extraction.text import TfidfVectorizer,CountVectorizer\n",
    "from nltk.corpus import stopwords\n",
    "stop_word_list=stopwords.words('english')"
   ]
  },
  {
   "cell_type": "code",
   "execution_count": 27,
   "metadata": {},
   "outputs": [
    {
     "data": {
      "text/plain": [
       "0    is it normal to feel suicidal if your'e disabled?\n",
       "1         i don't think things can continue like this.\n",
       "2      hate my home life, but have nowhere else to go.\n",
       "3                  i've started to stress-sleep again.\n",
       "4       i planned on going back to work an hour ago...\n",
       "5                  alone, broke, unhappy for 19 years.\n",
       "6                 the holidays are the absolute worst.\n",
       "7    i'm feeling the lowest i've felt in a while, a...\n",
       "8    i am a foreigner in the usa. can't go back \"ho...\n",
       "9                       nothing is worth fighting for.\n",
       "Name: Title, dtype: object"
      ]
     },
     "execution_count": 27,
     "metadata": {},
     "output_type": "execute_result"
    }
   ],
   "source": [
    "title.head(10)"
   ]
  },
  {
   "cell_type": "code",
   "execution_count": 28,
   "metadata": {},
   "outputs": [],
   "source": [
    "stem_snow = SnowballStemmer(\"english\")"
   ]
  },
  {
   "cell_type": "code",
   "execution_count": 29,
   "metadata": {},
   "outputs": [],
   "source": [
    "def neg(x):\n",
    "    if x in not_list_manual:\n",
    "        return 'not'\n",
    "    if len(x)<2:\n",
    "        return ''\n",
    "    else:\n",
    "        return x"
   ]
  },
  {
   "cell_type": "code",
   "execution_count": 30,
   "metadata": {},
   "outputs": [],
   "source": [
    "not_list_manual=['noth','dont','cant','doesnt','didnt','wont','havent','never','isnt']\n",
    "stop_list_manual=['hi','ive','someon','im','like','time','day','year', 'one','today','would','much','take','ever','point','na','done','someth','anyth','got','could','what','first','everyon','say','wors','come',\\\n",
    "'week','everi','month','might','fail','use','wan','told','let','gon','well','read','readi','place','ago','almost','your','call','there','mom','around','sometim','even','els','way','lot','hour','tomorrow','sinc','2','two' ,  'ask', 'soon',]"
   ]
  },
  {
   "cell_type": "code",
   "execution_count": 31,
   "metadata": {},
   "outputs": [],
   "source": [
    "stop_word_list.extend(stop_list_manual)"
   ]
  },
  {
   "cell_type": "code",
   "execution_count": 32,
   "metadata": {},
   "outputs": [],
   "source": [
    "stop_word_list.remove('not')"
   ]
  },
  {
   "cell_type": "code",
   "execution_count": 33,
   "metadata": {},
   "outputs": [
    {
     "data": {
      "application/vnd.jupyter.widget-view+json": {
       "model_id": "ca213482e68c463bb21aead996484680",
       "version_major": 2,
       "version_minor": 0
      },
      "text/plain": [
       "HBox(children=(HTML(value=''), FloatProgress(value=0.0, max=100000.0), HTML(value='')))"
      ]
     },
     "metadata": {},
     "output_type": "display_data"
    },
    {
     "name": "stdout",
     "output_type": "stream",
     "text": [
      "\n",
      "Wall time: 49.7 s\n"
     ]
    }
   ],
   "source": [
    "#import re\n",
    "%time filled_title=title.str.replace(r'[^A-Za-z\\s]+','').progress_apply(lambda x : ' '.join([neg(stem_snow.stem(i)) for i in nltk.word_tokenize(x) if i not in stop_word_list]))\n",
    "#title.head(10).str.replace(r'^\\s+|\\s+?$',' ')"
   ]
  },
  {
   "cell_type": "code",
   "execution_count": 34,
   "metadata": {},
   "outputs": [
    {
     "name": "stdout",
     "output_type": "stream",
     "text": [
      "Wall time: 266 ms\n",
      "Wall time: 3.39 s\n"
     ]
    }
   ],
   "source": [
    "%time sent_token = nltk.sent_tokenize(' '.join(filled_title.to_list()))\n",
    "%time word_token = nltk.word_tokenize(' '.join(filled_title.to_list()))"
   ]
  },
  {
   "cell_type": "code",
   "execution_count": 35,
   "metadata": {},
   "outputs": [
    {
     "name": "stdout",
     "output_type": "stream",
     "text": [
      "Wall time: 655 ms\n"
     ]
    },
    {
     "data": {
      "text/plain": [
       "'not, feel, depress, want, help, life, suicid, know, get, go, need, kill, think, die, anymor, friend, anyon, live, realli, someon, fuck, end, peopl, talk, thought, tri, make, pleas, thing, hate, els, better, tire, everyth, alon, year, lost, happi, keep, advic, good, bad, love, stop, last, right, back, tell, post, wish, reason, care, give, long, work, start, sure, see, someth, person, anyth, what, hope, scare, night, ill, final, find, everyon, still, tonight, sad, look, famili, pain, wors, best, world, death, shit, hard, everi, job, deal, away, day, lone, parent, commit, school, made, seem, attempt, wrong, hurt, alway, aliv, self, guy, girlfriend, cri, vent, left, mental, anxieti, happen, new, plan, lose, sleep, birthday, dead, anoth, colleg, actual, enough, stori, old, struggl, question, problem, without, leav, relationship, littl, mind, month, fail, chang, sick, readi, your, rant, sometim, medic, exist, there, sorri, turn, understand, note, felt, serious, id, come, worth, cut, head, ruin, therapist, close, afraid, past, motiv, emot, cope, complet, therapi, take, nobodi, experi, write, futur, longer, antidepress, stay, support, normal, real, break, becom, hospit, mayb, idea, girl, move, probabl, fall, gone, suck, empti, suffer, deserv, fight, boyfriend, stuck, mani, wait, put, med, failur, sinc, worthless, found, consid, option, social, worst, wrote, decid'"
      ]
     },
     "execution_count": 35,
     "metadata": {},
     "output_type": "execute_result"
    }
   ],
   "source": [
    "%time ', '.join([i[0] for i in nltk.FreqDist(word_token).most_common(200)])"
   ]
  },
  {
   "cell_type": "code",
   "execution_count": 36,
   "metadata": {},
   "outputs": [
    {
     "data": {
      "text/plain": [
       "0     is it normal to feel suicidal if your'e disabled?\n",
       "1          i don't think things can continue like this.\n",
       "2       hate my home life, but have nowhere else to go.\n",
       "3                   i've started to stress-sleep again.\n",
       "4        i planned on going back to work an hour ago...\n",
       "5                   alone, broke, unhappy for 19 years.\n",
       "6                  the holidays are the absolute worst.\n",
       "7     i'm feeling the lowest i've felt in a while, a...\n",
       "8     i am a foreigner in the usa. can't go back \"ho...\n",
       "9                        nothing is worth fighting for.\n",
       "10                            i'm waiting for something\n",
       "11                                i just wanna be happy\n",
       "12                              antidepressent question\n",
       "13                                        i want to die\n",
       "Name: Title, dtype: object"
      ]
     },
     "execution_count": 36,
     "metadata": {},
     "output_type": "execute_result"
    }
   ],
   "source": [
    "title.head(14) #I'm just not doing well"
   ]
  },
  {
   "cell_type": "code",
   "execution_count": 37,
   "metadata": {},
   "outputs": [
    {
     "data": {
      "text/plain": [
       "13    want die\n",
       "Name: Title, dtype: object"
      ]
     },
     "execution_count": 37,
     "metadata": {},
     "output_type": "execute_result"
    }
   ],
   "source": [
    "filled_title.head(14).tail(1)"
   ]
  },
  {
   "cell_type": "code",
   "execution_count": 38,
   "metadata": {},
   "outputs": [],
   "source": [
    "# from wordcloud import WordCloud\n",
    "# wordcloud = WordCloud(max_words=1000,width = 800, height = 800,background_color ='white',min_font_size = 10).generate(' '.join(title)) \n",
    "# plt.figure(figsize = (10, 10), facecolor = None) \n",
    "# plt.imshow(wordcloud) \n",
    "# plt.axis(\"off\") \n",
    "# plt.tight_layout(pad = 0) \n",
    "# plt.show() "
   ]
  },
  {
   "cell_type": "code",
   "execution_count": 39,
   "metadata": {},
   "outputs": [],
   "source": [
    "# for i in set(list(filter(lambda x:len(x)<2,word_token))):\n",
    "#     print(i,end='---> ')\n",
    "#     print(word_freq[i])"
   ]
  },
  {
   "cell_type": "code",
   "execution_count": null,
   "metadata": {},
   "outputs": [],
   "source": []
  },
  {
   "cell_type": "code",
   "execution_count": 40,
   "metadata": {},
   "outputs": [
    {
     "data": {
      "text/plain": [
       "[(('not', 'know'), 3457),\n",
       " (('not', 'want'), 1799),\n",
       " (('want', 'die'), 1387),\n",
       " (('need', 'help'), 1205),\n",
       " (('anyon', 'els'), 990),\n",
       " (('not', 'sure'), 795),\n",
       " (('get', 'better'), 744),\n",
       " (('want', 'kill'), 684),\n",
       " (('depress', 'not'), 669),\n",
       " (('pleas', 'help'), 647),\n",
       " (('not', 'get'), 636),\n",
       " (('life', 'not'), 575),\n",
       " (('not', 'think'), 567),\n",
       " (('help', 'not'), 565),\n",
       " (('commit', 'suicid'), 565),\n",
       " (('someon', 'talk'), 563),\n",
       " (('not', 'feel'), 560),\n",
       " (('not', 'anymor'), 556),\n",
       " (('suicid', 'thought'), 552),\n",
       " (('know', 'anymor'), 542),\n",
       " (('need', 'someon'), 492),\n",
       " (('feel', 'not'), 479),\n",
       " (('die', 'not'), 447),\n",
       " (('kill', 'not'), 434),\n",
       " (('need', 'advic'), 433),\n",
       " (('not', 'go'), 427),\n",
       " (('suicid', 'not'), 415),\n",
       " (('go', 'kill'), 409),\n",
       " (('want', 'live'), 359),\n",
       " (('get', 'help'), 357),\n",
       " (('best', 'friend'), 349),\n",
       " (('want', 'end'), 342),\n",
       " (('anymor', 'not'), 338),\n",
       " (('not', 'stop'), 322),\n",
       " (('not', 'realli'), 316),\n",
       " (('not', 'see'), 302),\n",
       " (('know', 'not'), 296),\n",
       " (('last', 'night'), 291),\n",
       " (('not', 'care'), 281),\n",
       " (('get', 'wors'), 279),\n",
       " (('end', 'life'), 276),\n",
       " (('els', 'feel'), 263),\n",
       " (('keep', 'go'), 252),\n",
       " (('feel', 'depress'), 250),\n",
       " (('not', 'live'), 246),\n",
       " (('depress', 'feel'), 240),\n",
       " (('not', 'not'), 239),\n",
       " (('live', 'anymor'), 232),\n",
       " (('make', 'feel'), 230),\n",
       " (('not', 'kill'), 227),\n",
       " (('not', 'help'), 226),\n",
       " (('realli', 'need'), 226),\n",
       " (('feel', 'suicid'), 223),\n",
       " (('tri', 'kill'), 222),\n",
       " (('suicid', 'note'), 218),\n",
       " (('feel', 'alon'), 218),\n",
       " (('friend', 'not'), 215),\n",
       " (('think', 'suicid'), 215),\n",
       " (('live', 'not'), 206),\n",
       " (('reason', 'live'), 199),\n",
       " (('realli', 'want'), 199),\n",
       " (('help', 'pleas'), 194),\n",
       " (('feel', 'better'), 193),\n",
       " (('want', 'talk'), 192),\n",
       " (('reason', 'not'), 191),\n",
       " (('peopl', 'not'), 189),\n",
       " (('not', 'work'), 189),\n",
       " (('hate', 'life'), 186),\n",
       " (('need', 'vent'), 179),\n",
       " (('think', 'go'), 178),\n",
       " (('mental', 'health'), 177),\n",
       " (('not', 'find'), 177),\n",
       " (('not', 'suicid'), 177),\n",
       " (('help', 'depress'), 177),\n",
       " (('want', 'go'), 176),\n",
       " (('realli', 'not'), 175),\n",
       " (('need', 'talk'), 174),\n",
       " (('help', 'feel'), 174),\n",
       " (('go', 'not'), 173),\n",
       " (('not', 'depress'), 173),\n",
       " (('not', 'make'), 173),\n",
       " (('not', 'good'), 173),\n",
       " (('ruin', 'life'), 168),\n",
       " (('suicid', 'attempt'), 168),\n",
       " (('someon', 'pleas'), 167),\n",
       " (('not', 'seem'), 166),\n",
       " (('not', 'anyth'), 166),\n",
       " (('think', 'kill'), 163),\n",
       " (('want', 'get'), 163),\n",
       " (('talk', 'someon'), 160),\n",
       " (('life', 'feel'), 158),\n",
       " (('attempt', 'suicid'), 156),\n",
       " (('talk', 'not'), 156),\n",
       " (('need', 'get'), 154),\n",
       " (('what', 'wrong'), 153),\n",
       " (('end', 'not'), 153),\n",
       " (('not', 'understand'), 152),\n",
       " (('feel', 'lost'), 152),\n",
       " (('not', 'deserv'), 151),\n",
       " (('want', 'help'), 151),\n",
       " (('depress', 'anxieti'), 151),\n",
       " (('know', 'feel'), 150),\n",
       " (('self', 'harm'), 149),\n",
       " (('better', 'not'), 149),\n",
       " (('know', 'go'), 147),\n",
       " (('want', 'someon'), 146),\n",
       " (('fall', 'apart'), 145),\n",
       " (('stop', 'think'), 144),\n",
       " (('want', 'not'), 144),\n",
       " (('help', 'friend'), 143),\n",
       " (('feel', 'realli'), 143),\n",
       " (('thing', 'not'), 141),\n",
       " (('kill', 'tonight'), 140),\n",
       " (('not', 'happi'), 140),\n",
       " (('think', 'depress'), 139),\n",
       " (('sever', 'depress'), 139),\n",
       " (('depress', 'need'), 138),\n",
       " (('suicid', 'hotlin'), 138),\n",
       " (('help', 'need'), 138),\n",
       " (('suicid', 'feel'), 138),\n",
       " (('depress', 'want'), 137),\n",
       " (('fuck', 'life'), 137),\n",
       " (('know', 'depress'), 135),\n",
       " (('go', 'back'), 134),\n",
       " (('year', 'old'), 133),\n",
       " (('die', 'want'), 133),\n",
       " (('feel', 'empti'), 129),\n",
       " (('anyon', 'feel'), 128),\n",
       " (('not', 'keep'), 128),\n",
       " (('depress', 'suicid'), 127),\n",
       " (('not', 'handl'), 127),\n",
       " (('help', 'want'), 126),\n",
       " (('go', 'away'), 124),\n",
       " (('not', 'worth'), 123),\n",
       " (('not', 'felt'), 123),\n",
       " (('thought', 'not'), 122),\n",
       " (('mental', 'ill'), 121),\n",
       " (('want', 'feel'), 121),\n",
       " (('ill', 'not'), 120),\n",
       " (('anymor', 'feel'), 119),\n",
       " (('think', 'end'), 119),\n",
       " (('happi', 'not'), 117),\n",
       " (('think', 'not'), 116),\n",
       " (('go', 'get'), 116),\n",
       " (('life', 'want'), 115),\n",
       " (('not', 'left'), 115),\n",
       " (('feel', 'wors'), 115),\n",
       " (('make', 'want'), 114),\n",
       " (('stay', 'aliv'), 114),\n",
       " (('fuck', 'not'), 114),\n",
       " (('pleas', 'not'), 113),\n",
       " (('help', 'someon'), 113),\n",
       " (('someon', 'help'), 113),\n",
       " (('right', 'not'), 111),\n",
       " (('not', 'end'), 111),\n",
       " (('kill', 'self'), 110),\n",
       " (('feel', 'life'), 110),\n",
       " (('alon', 'not'), 110),\n",
       " (('thing', 'get'), 110),\n",
       " (('suicid', 'ideat'), 109),\n",
       " (('feel', 'hopeless'), 109),\n",
       " (('not', 'fuck'), 109),\n",
       " (('advic', 'not'), 108),\n",
       " (('life', 'go'), 108),\n",
       " (('consid', 'suicid'), 108),\n",
       " (('feel', 'bad'), 108),\n",
       " (('help', 'get'), 107),\n",
       " (('depress', 'get'), 106),\n",
       " (('know', 'want'), 106),\n",
       " (('live', 'life'), 105),\n",
       " (('want', 'anymor'), 105),\n",
       " (('know', 'els'), 104),\n",
       " (('tell', 'someon'), 104),\n",
       " (('kill', 'feel'), 104),\n",
       " (('get', 'depress'), 103),\n",
       " (('seek', 'help'), 103),\n",
       " (('suffer', 'depress'), 103),\n",
       " (('everyth', 'not'), 103),\n",
       " (('tri', 'get'), 103),\n",
       " (('not', 'anyon'), 103),\n",
       " (('feel', 'worthless'), 103),\n",
       " (('feel', 'good'), 102),\n",
       " (('high', 'school'), 101),\n",
       " (('thing', 'keep'), 100),\n",
       " (('not', 'thought'), 100),\n",
       " (('hate', 'not'), 100),\n",
       " (('not', 'believ'), 99),\n",
       " (('anyon', 'want'), 98),\n",
       " (('know', 'what'), 98),\n",
       " (('wish', 'not'), 98),\n",
       " (('anymor', 'want'), 97),\n",
       " (('anybodi', 'els'), 97),\n",
       " (('feel', 'shit'), 96),\n",
       " (('go', 'end'), 96),\n",
       " (('not', 'tell'), 96),\n",
       " (('worth', 'live'), 96),\n",
       " (('tri', 'not'), 96),\n",
       " (('not', 'matter'), 96),\n",
       " (('year', 'not'), 95),\n",
       " (('kill', 'want'), 95),\n",
       " (('pleas', 'talk'), 95),\n",
       " (('thought', 'suicid'), 94),\n",
       " (('think', 'need'), 94),\n",
       " (('plan', 'kill'), 94),\n",
       " (('not', 'stand'), 93),\n",
       " (('not', 'talk'), 93),\n",
       " (('go', 'die'), 93),\n",
       " (('love', 'not'), 93),\n",
       " (('feel', 'need'), 92),\n",
       " (('feel', 'guilti'), 92),\n",
       " (('not', 'die'), 92),\n",
       " (('want', 'stop'), 92),\n",
       " (('depress', 'anyon'), 92),\n",
       " (('not', 'sleep'), 91),\n",
       " (('thought', 'id'), 91),\n",
       " (('everyon', 'els'), 91),\n",
       " (('make', 'depress'), 90),\n",
       " (('feel', 'go'), 90),\n",
       " (('help', 'think'), 90),\n",
       " (('someon', 'not'), 90),\n",
       " (('social', 'anxieti'), 90),\n",
       " (('want', 'commit'), 90),\n",
       " (('work', 'not'), 89),\n",
       " (('friend', 'depress'), 89),\n",
       " (('feel', 'sad'), 89),\n",
       " (('depress', 'think'), 88),\n",
       " (('not', 'deal'), 88),\n",
       " (('not', 'abl'), 88),\n",
       " (('still', 'feel'), 88),\n",
       " (('rock', 'bottom'), 88),\n",
       " (('side', 'effect'), 87),\n",
       " (('feel', 'lone'), 87),\n",
       " (('not', 'chang'), 87),\n",
       " (('get', 'chest'), 87),\n",
       " (('night', 'not'), 87),\n",
       " (('good', 'enough'), 87),\n",
       " (('realli', 'bad'), 87),\n",
       " (('anyon', 'talk'), 87),\n",
       " (('life', 'get'), 86),\n",
       " (('feel', 'trap'), 86),\n",
       " (('die', 'feel'), 86),\n",
       " (('depress', 'peopl'), 86),\n",
       " (('help', 'help'), 86),\n",
       " (('come', 'back'), 86),\n",
       " (('help', 'anyon'), 86),\n",
       " (('realli', 'depress'), 86),\n",
       " (('there', 'not'), 85),\n",
       " (('back', 'not'), 85),\n",
       " (('feel', 'happi'), 85),\n",
       " (('keep', 'live'), 85),\n",
       " (('depress', 'help'), 84),\n",
       " (('someon', 'els'), 84),\n",
       " (('depress', 'life'), 84),\n",
       " (('help', 'suicid'), 84),\n",
       " (('wrong', 'not'), 83),\n",
       " (('not', 'give'), 82),\n",
       " (('depress', 'realli'), 82),\n",
       " (('know', 'help'), 82),\n",
       " (('els', 'not'), 82),\n",
       " (('not', 'need'), 81),\n",
       " (('dae', 'feel'), 81),\n",
       " (('life', 'fuck'), 81),\n",
       " (('deal', 'depress'), 81),\n",
       " (('sad', 'not'), 81),\n",
       " (('not', 'exist'), 81),\n",
       " (('still', 'not'), 81),\n",
       " (('anymor', 'need'), 80),\n",
       " (('get', 'bed'), 80),\n",
       " (('tire', 'not'), 80),\n",
       " (('tire', 'feel'), 80),\n",
       " (('bad', 'not'), 79),\n",
       " (('anxieti', 'depress'), 79),\n",
       " (('feel', 'anyth'), 78),\n",
       " (('suicid', 'need'), 78),\n",
       " (('anyth', 'anymor'), 78),\n",
       " (('depress', 'make'), 78),\n",
       " (('fuck', 'hate'), 78),\n",
       " (('need', 'friend'), 77),\n",
       " (('famili', 'not'), 77),\n",
       " (('depress', 'depress'), 77),\n",
       " (('lost', 'everyth'), 77),\n",
       " (('care', 'anymor'), 77),\n",
       " (('whole', 'life'), 77),\n",
       " (('aliv', 'not'), 77),\n",
       " (('know', 'get'), 77),\n",
       " (('want', 'give'), 76),\n",
       " (('friend', 'suicid'), 76),\n",
       " (('post', 'not'), 76),\n",
       " (('know', 'longer'), 76),\n",
       " (('keep', 'get'), 76),\n",
       " (('not', 'life'), 76),\n",
       " (('friend', 'want'), 75),\n",
       " (('tonight', 'not'), 75),\n",
       " (('start', 'feel'), 75),\n",
       " (('talk', 'feel'), 75),\n",
       " (('piec', 'shit'), 74),\n",
       " (('life', 'depress'), 74),\n",
       " (('tire', 'live'), 74),\n",
       " (('contempl', 'suicid'), 74),\n",
       " (('depress', 'year'), 74),\n",
       " (('nobodi', 'care'), 73),\n",
       " (('not', 'look'), 73),\n",
       " (('tonight', 'night'), 73),\n",
       " (('get', 'not'), 73),\n",
       " (('realli', 'know'), 73),\n",
       " (('life', 'anymor'), 73),\n",
       " (('lost', 'not'), 72),\n",
       " (('look', 'forward'), 72),\n",
       " (('panic', 'attack'), 71),\n",
       " (('someth', 'not'), 71),\n",
       " (('not', 'enjoy'), 71),\n",
       " (('care', 'not'), 71),\n",
       " (('world', 'not'), 71),\n",
       " (('tire', 'life'), 71),\n",
       " (('know', 'need'), 71),\n",
       " (('keep', 'aliv'), 71),\n",
       " (('make', 'friend'), 70),\n",
       " (('give', 'reason'), 70),\n",
       " (('feel', 'complet'), 70),\n",
       " (('life', 'need'), 70),\n",
       " (('scare', 'not'), 69),\n",
       " (('parent', 'not'), 69),\n",
       " (('find', 'reason'), 69),\n",
       " (('honest', 'not'), 69),\n",
       " (('not', 'wake'), 68),\n",
       " (('friend', 'feel'), 68),\n",
       " (('deserv', 'die'), 68),\n",
       " (('not', 'enough'), 68),\n",
       " (('make', 'happi'), 68),\n",
       " (('readi', 'die'), 67),\n",
       " (('sometim', 'feel'), 67),\n",
       " (('readi', 'go'), 67),\n",
       " (('suicid', 'depress'), 67),\n",
       " (('live', 'feel'), 67),\n",
       " (('talk', 'pleas'), 67),\n",
       " (('life', 'suck'), 66),\n",
       " (('person', 'not'), 66),\n",
       " (('suicid', 'want'), 66),\n",
       " (('know', 'life'), 66),\n",
       " (('depress', 'go'), 66),\n",
       " (('tri', 'hard'), 66),\n",
       " (('someon', 'tell'), 65),\n",
       " (('anyon', 'know'), 65),\n",
       " (('thought', 'get'), 65),\n",
       " (('want', 'share'), 65),\n",
       " (('sure', 'depress'), 65),\n",
       " (('anyth', 'not'), 64),\n",
       " (('tell', 'parent'), 64),\n",
       " (('long', 'post'), 64),\n",
       " (('wors', 'not'), 64),\n",
       " (('end', 'feel'), 64),\n",
       " (('wish', 'dead'), 64),\n",
       " (('pleas', 'someon'), 63),\n",
       " (('run', 'away'), 63),\n",
       " (('feel', 'stuck'), 63),\n",
       " (('shit', 'not'), 63),\n",
       " (('cri', 'help'), 63),\n",
       " (('talk', 'anyon'), 62),\n",
       " (('not', 'alon'), 62),\n",
       " (('pain', 'not'), 62),\n",
       " (('make', 'suicid'), 62),\n",
       " (('talk', 'depress'), 62),\n",
       " (('want', 'fuck'), 62),\n",
       " (('tri', 'help'), 61),\n",
       " (('not', 'love'), 61),\n",
       " (('probabl', 'not'), 61),\n",
       " (('lone', 'not'), 61),\n",
       " (('mani', 'peopl'), 61),\n",
       " (('look', 'advic'), 60),\n",
       " (('think', 'ill'), 60),\n",
       " (('life', 'worth'), 60),\n",
       " (('anymor', 'anyon'), 60),\n",
       " (('els', 'get'), 60),\n",
       " (('get', 'back'), 60),\n",
       " (('death', 'not'), 60),\n",
       " (('think', 'final'), 60),\n",
       " (('want', 'leav'), 59),\n",
       " (('hope', 'not'), 59),\n",
       " (('not', 'rememb'), 59),\n",
       " (('feel', 'end'), 59),\n",
       " (('probabl', 'go'), 59),\n",
       " (('away', 'not'), 59),\n",
       " (('th', 'birthday'), 59),\n",
       " (('lost', 'job'), 59),\n",
       " (('good', 'reason'), 59),\n",
       " (('girlfriend', 'depress'), 59),\n",
       " (('friend', 'famili'), 59),\n",
       " (('wrote', 'suicid'), 58),\n",
       " (('job', 'not'), 58),\n",
       " (('depress', 'fuck'), 58),\n",
       " (('go', 'sleep'), 58),\n",
       " (('struggl', 'depress'), 58),\n",
       " (('pleas', 'tell'), 57),\n",
       " (('someth', 'wrong'), 57),\n",
       " (('depress', 'friend'), 57),\n",
       " (('reason', 'keep'), 57),\n",
       " (('cri', 'not'), 56),\n",
       " (('want', 'friend'), 56),\n",
       " (('love', 'life'), 56),\n",
       " (('go', 'feel'), 56),\n",
       " (('sleep', 'not'), 56),\n",
       " (('kill', 'need'), 56),\n",
       " (('still', 'want'), 56),\n",
       " (('realli', 'feel'), 56),\n",
       " (('thought', 'feel'), 56),\n",
       " (('what', 'go'), 55),\n",
       " (('bad', 'person'), 55),\n",
       " (('feel', 'feel'), 55),\n",
       " (('life', 'think'), 55),\n",
       " (('hey', 'guy'), 55),\n",
       " (('think', 'want'), 55),\n",
       " (('realli', 'realli'), 55),\n",
       " (('anyon', 'experi'), 54),\n",
       " (('not', 'tri'), 54),\n",
       " (('feel', 'want'), 54),\n",
       " (('want', 'hurt'), 54),\n",
       " (('kill', 'last'), 54),\n",
       " (('good', 'thing'), 54),\n",
       " (('not', 'friend'), 54),\n",
       " (('stop', 'feel'), 53),\n",
       " (('not', 'cri'), 53),\n",
       " (('trigger', 'warn'), 53),\n",
       " (('life', 'realli'), 53),\n",
       " (('make', 'sens'), 53),\n",
       " (('stop', 'cri'), 53),\n",
       " (('suicid', 'friend'), 52),\n",
       " (('friend', 'need'), 52),\n",
       " (('psych', 'ward'), 52),\n",
       " (('not', 'actual'), 52),\n",
       " (('want', 'tell'), 52),\n",
       " (('want', 'life'), 52),\n",
       " (('lost', 'friend'), 52),\n",
       " (('not', 'wait'), 52),\n",
       " (('someon', 'depress'), 52),\n",
       " (('get', 'job'), 52),\n",
       " (('advic', 'need'), 52),\n",
       " (('birthday', 'not'), 52),\n",
       " (('tire', 'tri'), 52),\n",
       " (('long', 'not'), 52),\n",
       " (('feel', 'numb'), 52),\n",
       " (('wish', 'someon'), 52),\n",
       " (('major', 'depress'), 52),\n",
       " (('therapist', 'not'), 52),\n",
       " (('mental', 'hospit'), 51),\n",
       " (('not', 'okay'), 51),\n",
       " (('depress', 'person'), 51),\n",
       " (('guy', 'not'), 51),\n",
       " (('feel', 'get'), 51),\n",
       " (('live', 'want'), 51),\n",
       " (('rest', 'life'), 51),\n",
       " (('id', 'rather'), 51),\n",
       " (('suicid', 'think'), 51),\n",
       " (('handl', 'anymor'), 51),\n",
       " (('want', 'aliv'), 51),\n",
       " (('final', 'go'), 51),\n",
       " (('peopl', 'care'), 51),\n",
       " (('peopl', 'want'), 51),\n",
       " (('fuck', 'die'), 51),\n",
       " (('feel', 'live'), 51),\n",
       " (('help', 'go'), 50),\n",
       " (('not', 'bring'), 50),\n",
       " (('your', 'not'), 50),\n",
       " (('feel', 'anymor'), 50),\n",
       " (('entir', 'life'), 50),\n",
       " (('end', 'rope'), 50),\n",
       " (('anymor', 'think'), 50),\n",
       " (('realli', 'hard'), 50),\n",
       " (('reason', 'stay'), 50),\n",
       " (('get', 'realli'), 50),\n",
       " (('go', 'go'), 50),\n",
       " (('anyon', 'help'), 50),\n",
       " (('talk', 'suicid'), 50),\n",
       " (('need', 'support'), 49),\n",
       " (('caus', 'depress'), 49),\n",
       " (('everi', 'night'), 49),\n",
       " (('happen', 'not'), 49),\n",
       " (('tell', 'not'), 49),\n",
       " (('anymor', 'go'), 49),\n",
       " (('hate', 'feel'), 49),\n",
       " (('feel', 'failur'), 49),\n",
       " (('pretti', 'sure'), 49),\n",
       " (('fuck', 'tire'), 49),\n",
       " (('still', 'aliv'), 49),\n",
       " (('go', 'tri'), 49),\n",
       " (('last', 'post'), 49),\n",
       " (('depress', 'pleas'), 49),\n",
       " (('feel', 'fuck'), 49),\n",
       " (('go', 'life'), 49),\n",
       " (('not', 'bad'), 49),\n",
       " (('think', 'readi'), 49),\n",
       " (('feel', 'die'), 49),\n",
       " (('want', 'exist'), 49),\n",
       " (('life', 'seem'), 49),\n",
       " (('suicid', 'peopl'), 49),\n",
       " (('want', 'know'), 49),\n",
       " (('day', 'not'), 49),\n",
       " (('know', 'anyon'), 48),\n",
       " (('hard', 'not'), 48),\n",
       " (('new', 'year'), 48),\n",
       " (('not', 'sad'), 48),\n",
       " (('want', 'sleep'), 48),\n",
       " (('video', 'game'), 48),\n",
       " (('feel', 'right'), 48),\n",
       " (('plan', 'suicid'), 48),\n",
       " (('end', 'want'), 48),\n",
       " (('peopl', 'depress'), 48),\n",
       " (('advic', 'pleas'), 48),\n",
       " (('talk', 'want'), 48),\n",
       " (('tell', 'peopl'), 48),\n",
       " (('someon', 'listen'), 48),\n",
       " (('everyth', 'feel'), 48),\n",
       " (('life', 'fall'), 48),\n",
       " (('life', 'end'), 48),\n",
       " (('help', 'peopl'), 48),\n",
       " (('love', 'one'), 48),\n",
       " (('hate', 'everyth'), 47),\n",
       " (('thing', 'stop'), 47),\n",
       " (('peopl', 'think'), 47),\n",
       " (('want', 'disappear'), 47),\n",
       " (('wast', 'life'), 47),\n",
       " (('depress', 'thought'), 47),\n",
       " (('fuck', 'depress'), 47),\n",
       " (('better', 'feel'), 47),\n",
       " (('want', 'make'), 47),\n",
       " (('everyth', 'go'), 47),\n",
       " (('keep', 'tri'), 47),\n",
       " (('feel', 'kill'), 47),\n",
       " (('thought', 'depress'), 47),\n",
       " (('everi', 'singl'), 47),\n",
       " (('your', 'depress'), 47),\n",
       " (('see', 'therapist'), 47),\n",
       " (('better', 'without'), 47),\n",
       " (('back', 'depress'), 46),\n",
       " (('past', 'year'), 46),\n",
       " (('shouldnt', 'kill'), 46),\n",
       " (('advic', 'help'), 46),\n",
       " (('littl', 'bit'), 46),\n",
       " (('feel', 'aw'), 46),\n",
       " (('want', 'happi'), 46),\n",
       " (('good', 'not'), 46),\n",
       " (('not', 'belong'), 46),\n",
       " (('tell', 'friend'), 46),\n",
       " (('life', 'anyon'), 46),\n",
       " (('left', 'not'), 46),\n",
       " (('die', 'think'), 46),\n",
       " (('tire', 'fight'), 46),\n",
       " (('thing', 'make'), 46),\n",
       " (('made', 'feel'), 46),\n",
       " (('vent', 'not'), 46),\n",
       " (('go', 'hospit'), 46),\n",
       " (('not', 'cope'), 46),\n",
       " (('depress', 'tri'), 45),\n",
       " (('need', 'die'), 45),\n",
       " (('dead', 'not'), 45),\n",
       " (('anyon', 'not'), 45),\n",
       " (('tri', 'commit'), 45),\n",
       " (('tell', 'anyon'), 45),\n",
       " (('give', 'shit'), 45),\n",
       " (('sure', 'feel'), 45),\n",
       " (('get', 'life'), 45),\n",
       " (('fuck', 'kill'), 45),\n",
       " (('talk', 'peopl'), 45),\n",
       " (('look', 'help'), 45),\n",
       " (('suicid', 'last'), 45),\n",
       " (('want', 'anyth'), 45),\n",
       " (('els', 'go'), 44),\n",
       " (('get', 'bad'), 44),\n",
       " (('kill', 'think'), 44),\n",
       " (('not', 'right'), 44),\n",
       " (('self', 'destruct'), 44),\n",
       " (('feel', 'terribl'), 44),\n",
       " (('close', 'friend'), 44),\n",
       " (('go', 'depress'), 44),\n",
       " (('suicid', 'help'), 44),\n",
       " (('what', 'live'), 44),\n",
       " (('get', 'closer'), 44),\n",
       " (('depress', 'long'), 44),\n",
       " (('think', 'get'), 44),\n",
       " (('anymor', 'depress'), 44),\n",
       " (('serious', 'consid'), 44),\n",
       " (('help', 'realli'), 44),\n",
       " (('lost', 'hope'), 44),\n",
       " (('ask', 'help'), 44),\n",
       " (('not', 'post'), 44),\n",
       " (('give', 'not'), 44),\n",
       " (('get', 'feel'), 44),\n",
       " (('know', 'deal'), 44),\n",
       " (('not', 'leav'), 44),\n",
       " (('lose', 'hope'), 44),\n",
       " (('anyon', 'relat'), 44),\n",
       " (('think', 'die'), 44),\n",
       " (('happi', 'feel'), 43),\n",
       " (('suicid', 'year'), 43),\n",
       " (('not', 'afford'), 43),\n",
       " (('social', 'media'), 43),\n",
       " (('want', 'see'), 43),\n",
       " (('littl', 'thing'), 43),\n",
       " (('feel', 'there'), 43),\n",
       " (('tri', 'anymor'), 43),\n",
       " (('die', 'alon'), 43),\n",
       " (('depress', 'ruin'), 43),\n",
       " (('therapi', 'not'), 43),\n",
       " (('feel', 'low'), 43),\n",
       " (('enough', 'not'), 43),\n",
       " (('alon', 'want'), 43),\n",
       " (('rant', 'not'), 43),\n",
       " (('famili', 'member'), 43),\n",
       " (('go', 'want'), 43),\n",
       " (('dead', 'insid'), 43),\n",
       " (('physic', 'pain'), 43),\n",
       " (('fuck', 'fuck'), 43),\n",
       " (('everyth', 'life'), 42),\n",
       " (('feel', 'wast'), 42),\n",
       " (('die', 'depress'), 42),\n",
       " (('die', 'need'), 42),\n",
       " (('stori', 'not'), 42),\n",
       " (('want', 'pain'), 42),\n",
       " (('alway', 'feel'), 42),\n",
       " (('right', 'feel'), 42),\n",
       " (('feel', 'give'), 42),\n",
       " (('feel', 'dead'), 42),\n",
       " (('hope', 'get'), 42),\n",
       " (('thing', 'go'), 41),\n",
       " (('good', 'life'), 41),\n",
       " (('note', 'not'), 41),\n",
       " (('problem', 'not'), 41),\n",
       " (('make', 'life'), 41),\n",
       " (('help', 'advic'), 41),\n",
       " (('chang', 'life'), 41),\n",
       " (('make', 'wors'), 41),\n",
       " (('not', 'reason'), 41),\n",
       " (('write', 'suicid'), 41),\n",
       " (('pleas', 'give'), 41),\n",
       " (('lack', 'motiv'), 41),\n",
       " (('know', 'ill'), 41),\n",
       " (('give', 'advic'), 41),\n",
       " (('fall', 'asleep'), 41),\n",
       " (('depress', 'hate'), 41),\n",
       " (('feel', 'pretti'), 41),\n",
       " (('know', 'think'), 41),\n",
       " (('start', 'get'), 41),\n",
       " (('downward', 'spiral'), 41),\n",
       " (('pleas', 'need'), 41),\n",
       " (('know', 'make'), 41),\n",
       " (('friend', 'kill'), 41),\n",
       " (('realli', 'get'), 41),\n",
       " (('think', 'anymor'), 41),\n",
       " (('anyth', 'right'), 41),\n",
       " (('peopl', 'get'), 41),\n",
       " (('depress', 'episod'), 40),\n",
       " (('anymor', 'life'), 40),\n",
       " (('suicid', 'prevent'), 40),\n",
       " (('cut', 'not'), 40),\n",
       " (('med', 'not'), 40),\n",
       " (('help', 'tire'), 40),\n",
       " (('famili', 'friend'), 40),\n",
       " (('fail', 'attempt'), 40),\n",
       " (('life', 'hard'), 40),\n",
       " (('profession', 'help'), 40),\n",
       " (('get', 'harder'), 40),\n",
       " (('someon', 'love'), 40),\n",
       " (('life', 'stori'), 40),\n",
       " (('sure', 'anymor'), 40),\n",
       " (('happi', 'life'), 40),\n",
       " (('readi', 'give'), 40),\n",
       " (('school', 'not'), 40),\n",
       " (('old', 'friend'), 40),\n",
       " (('hate', 'peopl'), 40),\n",
       " (('tire', 'everyth'), 40),\n",
       " (('live', 'depress'), 40),\n",
       " (('realli', 'care'), 40),\n",
       " (('hurt', 'not'), 40),\n",
       " (('thing', 'happen'), 40),\n",
       " (('get', 'rid'), 40),\n",
       " (('kill', 'go'), 40),\n",
       " (('end', 'tonight'), 40),\n",
       " (('realli', 'sure'), 40),\n",
       " (('medic', 'not'), 40),\n",
       " (('give', 'life'), 40),\n",
       " (('know', 'your'), 40),\n",
       " (('hit', 'rock'), 40),\n",
       " (('wall', 'text'), 40),\n",
       " (('help', 'find'), 39),\n",
       " (('fuck', 'want'), 39),\n",
       " (('know', 'post'), 39),\n",
       " (('realli', 'help'), 39),\n",
       " (('want', 'wake'), 39),\n",
       " (('tri', 'hang'), 39),\n",
       " (('tri', 'make'), 39),\n",
       " (('work', 'feel'), 39),\n",
       " (('go', 'anymor'), 39),\n",
       " (('realiz', 'not'), 39),\n",
       " (('go', 'crazi'), 39),\n",
       " (('dead', 'end'), 39),\n",
       " (('liter', 'not'), 39),\n",
       " (('hate', 'want'), 39),\n",
       " (('feel', 'everyth'), 39),\n",
       " (('exist', 'not'), 39),\n",
       " (('not', 'born'), 39),\n",
       " (('go', 'commit'), 39),\n",
       " (('kill', 'anyon'), 39),\n",
       " (('not', 'hate'), 38),\n",
       " (('see', 'anymor'), 38),\n",
       " (('complet', 'alon'), 38),\n",
       " (('stop', 'not'), 38),\n",
       " (('feel', 'useless'), 38),\n",
       " (('anyon', 'tri'), 38),\n",
       " (('feel', 'someth'), 38),\n",
       " (('life', 'hate'), 38),\n",
       " (('scare', 'go'), 38),\n",
       " (('peopl', 'know'), 38),\n",
       " (('feel', 'broken'), 38),\n",
       " (('suicid', 'seem'), 38),\n",
       " (('die', 'bad'), 38),\n",
       " (('feel', 'everyon'), 38),\n",
       " (('friend', 'tri'), 38),\n",
       " (('anxieti', 'not'), 38),\n",
       " (('suicid', 'option'), 38),\n",
       " (('suicid', 'pleas'), 38),\n",
       " (('want', 'keep'), 38),\n",
       " (('tri', 'find'), 38),\n",
       " (('thing', 'life'), 38),\n",
       " (('clinic', 'depress'), 38),\n",
       " (('attempt', 'not'), 38),\n",
       " (('year', 'feel'), 38),\n",
       " (('want', 'want'), 37),\n",
       " (('colleg', 'not'), 37),\n",
       " (('wast', 'space'), 37),\n",
       " (('friend', 'die'), 37),\n",
       " (('month', 'not'), 37),\n",
       " (('kill', 'get'), 37),\n",
       " (('new', 'job'), 37),\n",
       " (('ruin', 'everyth'), 37),\n",
       " (('kill', 'realli'), 37),\n",
       " (('good', 'friend'), 37),\n",
       " (('wish', 'die'), 37),\n",
       " (('help', 'fuck'), 37),\n",
       " (('deserv', 'live'), 37),\n",
       " (('move', 'forward'), 37),\n",
       " (('extrem', 'depress'), 37),\n",
       " (('feel', 'tire'), 37),\n",
       " (('gone', 'not'), 37),\n",
       " (('year', 'depress'), 37),\n",
       " (('suck', 'not'), 37),\n",
       " (('realli', 'fuck'), 37),\n",
       " (('stop', 'take'), 37),\n",
       " (('know', 'titl'), 37),\n",
       " (('horribl', 'person'), 37),\n",
       " (('go', 'need'), 36),\n",
       " (('someon', 'know'), 36),\n",
       " (('peopl', 'life'), 36),\n",
       " (('everyth', 'want'), 36),\n",
       " (('everyon', 'hate'), 36),\n",
       " (('sure', 'not'), 36),\n",
       " (('go', 'wrong'), 36),\n",
       " (('reason', 'depress'), 36),\n",
       " (('anyon', 'need'), 36),\n",
       " (('anti', 'depress'), 36),\n",
       " (('peopl', 'feel'), 36),\n",
       " (('fail', 'suicid'), 36),\n",
       " (('tire', 'want'), 36),\n",
       " (('someth', 'els'), 36),\n",
       " (('life', 'help'), 36),\n",
       " (('negat', 'thought'), 36),\n",
       " (('see', 'doctor'), 36),\n",
       " (('sorri', 'not'), 36),\n",
       " (('sure', 'go'), 36),\n",
       " (('futur', 'not'), 36),\n",
       " (('ill', 'kill'), 36),\n",
       " (('lose', 'mind'), 36),\n",
       " (('guess', 'not'), 36),\n",
       " (('post', 'feel'), 36),\n",
       " (('readi', 'end'), 36),\n",
       " (('need', 'not'), 36),\n",
       " (('alon', 'need'), 36),\n",
       " (('real', 'life'), 36),\n",
       " (('suicid', 'plan'), 36),\n",
       " (('mood', 'swing'), 36),\n",
       " (('poem', 'wrote'), 36),\n",
       " (('fuck', 'everyth'), 36),\n",
       " (('think', 'life'), 36),\n",
       " (('call', 'suicid'), 36),\n",
       " (('fuck', 'shit'), 36),\n",
       " (('tri', 'everyth'), 36),\n",
       " (('better', 'want'), 36),\n",
       " (('relationship', 'not'), 36),\n",
       " (('help', 'guy'), 36),\n",
       " (('peopl', 'talk'), 36),\n",
       " (('go', 'help'), 36),\n",
       " (('still', 'depress'), 36),\n",
       " (('depress', 'lost'), 36),\n",
       " (('die', 'scare'), 36),\n",
       " (('not', 'normal'), 36),\n",
       " (('sick', 'tire'), 35),\n",
       " (('go', 'see'), 35),\n",
       " (('hopeless', 'not'), 35),\n",
       " (('kill', 'pleas'), 35),\n",
       " (('sure', 'want'), 35),\n",
       " (('save', 'life'), 35),\n",
       " (('someon', 'kill'), 35),\n",
       " (('share', 'stori'), 35),\n",
       " (('struggl', 'not'), 35),\n",
       " (('help', 'tri'), 35),\n",
       " (('seem', 'get'), 35),\n",
       " (('right', 'need'), 35),\n",
       " (('not', 'bother'), 35),\n",
       " (('want', 'vent'), 35),\n",
       " (('due', 'depress'), 35),\n",
       " (('feel', 'anyon'), 35),\n",
       " (('go', 'insan'), 35),\n",
       " (('reason', 'feel'), 35),\n",
       " (('suicid', 'go'), 35),\n",
       " (('lone', 'depress'), 35),\n",
       " (('kill', 'help'), 34),\n",
       " (('long', 'term'), 34),\n",
       " (('get', 'tire'), 34),\n",
       " (('life', 'life'), 34),\n",
       " (('battl', 'depress'), 34),\n",
       " (('suicid', 'method'), 34),\n",
       " (('die', 'go'), 34),\n",
       " (('go', 'suicid'), 34),\n",
       " (('tell', 'depress'), 34),\n",
       " (('realli', 'wish'), 34),\n",
       " (('wish', 'wasnt'), 34),\n",
       " (('aliv', 'anymor'), 34),\n",
       " (('need', 'somebodi'), 34),\n",
       " (('want', 'depress'), 34),\n",
       " (('know', 'fuck'), 34),\n",
       " (('realli', 'struggl'), 34),\n",
       " (('somebodi', 'talk'), 34),\n",
       " (('hope', 'help'), 34),\n",
       " (('not', 'commit'), 34),\n",
       " (('not', 'escap'), 34),\n",
       " (('mayb', 'not'), 34),\n",
       " (('quit', 'job'), 34),\n",
       " (('peopl', 'love'), 34),\n",
       " (('afraid', 'not'), 34),\n",
       " (('feel', 'pain'), 34),\n",
       " (('suicid', 'anyon'), 34),\n",
       " (('alon', 'feel'), 34),\n",
       " (('end', 'anyon'), 34),\n",
       " (('give', 'fuck'), 33),\n",
       " (('not', 'hold'), 33),\n",
       " (('happi', 'birthday'), 33),\n",
       " (('rather', 'die'), 33),\n",
       " (('apart', 'not'), 33),\n",
       " (('friend', 'mine'), 33),\n",
       " (('want', 'dead'), 33),\n",
       " (('wait', 'die'), 33),\n",
       " (('want', 'alon'), 33),\n",
       " (('worst', 'part'), 33),\n",
       " (('scare', 'die'), 33),\n",
       " (('think', 'may'), 33),\n",
       " (('depress', 'tire'), 33),\n",
       " (('suicid', 'realli'), 33),\n",
       " (('take', 'life'), 33),\n",
       " (('intrus', 'thought'), 33),\n",
       " (('sometim', 'wish'), 33),\n",
       " (('tonight', 'feel'), 33),\n",
       " (('help', 'understand'), 33),\n",
       " (('kill', 'life'), 33),\n",
       " (('kill', 'depress'), 33),\n",
       " (('option', 'not'), 33),\n",
       " (('enjoy', 'life'), 33),\n",
       " (('feel', 'helpless'), 33),\n",
       " (('failur', 'not'), 33),\n",
       " (('talk', 'friend'), 33),\n",
       " (('feel', 'thing'), 33),\n",
       " (('live', 'without'), 32),\n",
       " (('go', 'work'), 32),\n",
       " (('wors', 'feel'), 32),\n",
       " (('actual', 'depress'), 32),\n",
       " (('okay', 'not'), 32),\n",
       " (('tell', 'therapist'), 32),\n",
       " (('fight', 'depress'), 32),\n",
       " (('not', 'control'), 32),\n",
       " (('think', 'feel'), 32),\n",
       " (('die', 'right'), 32),\n",
       " (('feel', 'peopl'), 32),\n",
       " (('go', 'school'), 32),\n",
       " (('sleep', 'pill'), 32),\n",
       " (('look', 'someon'), 32),\n",
       " (('lose', 'friend'), 32),\n",
       " (('depress', 'start'), 32),\n",
       " (('right', 'want'), 32),\n",
       " (('realli', 'think'), 32),\n",
       " (('stuck', 'not'), 32),\n",
       " (('need', 'kill'), 32),\n",
       " (('know', 'start'), 32),\n",
       " (('help', 'life'), 32),\n",
       " (('go', 'doctor'), 32),\n",
       " (('continu', 'live'), 32),\n",
       " (('go', 'right'), 32),\n",
       " (('life', 'peopl'), 32),\n",
       " (('yet', 'not'), 32),\n",
       " (('your', 'feel'), 32),\n",
       " (('depress', 'lone'), 32),\n",
       " (('self', 'esteem'), 32),\n",
       " (('sure', 'right'), 32),\n",
       " (('feel', 'love'), 32),\n",
       " (('friend', 'think'), 32),\n",
       " (('fuck', 'feel'), 32),\n",
       " (('depress', 'wors'), 32),\n",
       " (('not', 'move'), 32),\n",
       " (('talk', 'need'), 31),\n",
       " (('someon', 'give'), 31),\n",
       " (('not', 'interest'), 31),\n",
       " (('depress', 'advic'), 31),\n",
       " (('think', 'tonight'), 31),\n",
       " (('someon', 'care'), 31),\n",
       " (('go', 'fuck'), 31),\n",
       " (('realli', 'sad'), 31),\n",
       " (('want', 'cri'), 31),\n",
       " (('depress', 'caus'), 31),\n",
       " (('depress', 'look'), 31),\n",
       " (('not', 'trust'), 31),\n",
       " (('afraid', 'die'), 31),\n",
       " (('kill', 'fuck'), 31),\n",
       " (('depress', 'made'), 31),\n",
       " (('anymor', 'get'), 31),\n",
       " (('chronic', 'pain'), 31),\n",
       " (('anymor', 'realli'), 31),\n",
       " (('right', 'thing'), 31),\n",
       " (('someon', 'suicid'), 31),\n",
       " (('depress', 'affect'), 31),\n",
       " (('life', 'pleas'), 31),\n",
       " (('depress', 'thing'), 31),\n",
       " (('know', 'suicid'), 31),\n",
       " (('feel', 'littl'), 31),\n",
       " (('know', 'realli'), 31),\n",
       " (('think', 'death'), 31),\n",
       " (('get', 'thing'), 31),\n",
       " (('purpos', 'life'), 31),\n",
       " (('anymor', 'fuck'), 31),\n",
       " (('everyth', 'fall'), 31),\n",
       " (('depress', 'someon'), 31),\n",
       " (('friend', 'go'), 31),\n",
       " (('anymor', 'help'), 31),\n",
       " (('feel', 'real'), 31),\n",
       " (('know', 'long'), 31),\n",
       " (('suicid', 'get'), 31),\n",
       " (('id', 'share'), 31),\n",
       " (('depress', 'back'), 31),\n",
       " (('desper', 'need'), 31),\n",
       " (('depress', 'come'), 31),\n",
       " (('feel', 'ill'), 31),\n",
       " (('feel', 'stupid'), 31),\n",
       " (('colleg', 'student'), 31),\n",
       " (('kill', 'kill'), 31),\n",
       " (('depress', 'scare'), 30),\n",
       " (('final', 'get'), 30),\n",
       " (('make', 'thing'), 30),\n",
       " (('alon', 'depress'), 30),\n",
       " (('know', 'live'), 30),\n",
       " (('peopl', 'tell'), 30),\n",
       " (('mind', 'not'), 30),\n",
       " (('kill', 'right'), 30),\n",
       " (('see', 'live'), 30),\n",
       " (('go', 'home'), 30),\n",
       " (('depress', 'reason'), 30),\n",
       " (('pain', 'stop'), 30),\n",
       " (('last', 'not'), 30),\n",
       " (('best', 'option'), 30),\n",
       " (('tire', 'tire'), 30),\n",
       " (('thought', 'want'), 30),\n",
       " (('die', 'pleas'), 30),\n",
       " (('hotlin', 'not'), 30),\n",
       " (('end', 'need'), 30),\n",
       " (('els', 'depress'), 30),\n",
       " (('think', 'id'), 30),\n",
       " (('idk', 'anymor'), 30),\n",
       " (('not', 'hurt'), 30),\n",
       " (('feel', 'absolut'), 30),\n",
       " (('go', 'live'), 30),\n",
       " (('think', 'realli'), 30),\n",
       " (('depress', 'kill'), 30),\n",
       " (('strong', 'enough'), 30),\n",
       " (('matter', 'not'), 30),\n",
       " (('week', 'not'), 30),\n",
       " (('not', 'happen'), 30),\n",
       " (('pleas', 'kill'), 30),\n",
       " (('cope', 'depress'), 30),\n",
       " (('start', 'think'), 30),\n",
       " (('feel', 'world'), 30),\n",
       " (('happi', 'want'), 30),\n",
       " (('hold', 'back'), 29),\n",
       " (('see', 'not'), 29),\n",
       " (('help', 'other'), 29),\n",
       " (('coupl', 'week'), 29),\n",
       " (('feel', 'extrem'), 29),\n",
       " (('not', 'real'), 29),\n",
       " (('write', 'note'), 29),\n",
       " (('die', 'tonight'), 29),\n",
       " (('worth', 'not'), 29),\n",
       " (('day', 'feel'), 29),\n",
       " (('life', 'what'), 29),\n",
       " (('anymor', 'hate'), 29),\n",
       " (('night', 'want'), 29),\n",
       " (('feel', 'burden'), 29),\n",
       " (('end', 'depress'), 29),\n",
       " ...]"
      ]
     },
     "execution_count": 40,
     "metadata": {},
     "output_type": "execute_result"
    }
   ],
   "source": [
    "bigram_fd = nltk.FreqDist(nltk.bigrams(word_token))\n",
    "bigram_fd.most_common()"
   ]
  },
  {
   "cell_type": "code",
   "execution_count": 41,
   "metadata": {},
   "outputs": [],
   "source": [
    "# die\n",
    "# help\n",
    "# suicid\n",
    "# kill\n",
    "# live\n",
    "# kill\n",
    "# talk\n",
    "# harm\n",
    "# empti\n",
    "# depress\n",
    "# life\n",
    "# mental\n",
    "\n",
    "#pd.DataFrame({i[0]:i[1] for i in bigram_fd.most_common(1000)},index=[0]).T.to_csv('most_comm.csv')"
   ]
  },
  {
   "cell_type": "code",
   "execution_count": 42,
   "metadata": {},
   "outputs": [
    {
     "data": {
      "application/vnd.jupyter.widget-view+json": {
       "model_id": "7c30b2a9b0db42ad863315b16fc59cf2",
       "version_major": 2,
       "version_minor": 0
      },
      "text/plain": [
       "HBox(children=(HTML(value=''), FloatProgress(value=0.0, max=100000.0), HTML(value='')))"
      ]
     },
     "metadata": {},
     "output_type": "display_data"
    },
    {
     "name": "stdout",
     "output_type": "stream",
     "text": [
      "\n"
     ]
    }
   ],
   "source": [
    "def check_titile(x):\n",
    "    flag1=False\n",
    "    flag2=False\n",
    "    if len(x)<1:\n",
    "        return 0\n",
    "    for i in x.split(' '):\n",
    "        if i in ['want']:\n",
    "            flag1=True\n",
    "        if i in ['die']:\n",
    "            flag2=True\n",
    "    if flag1 and flag2:\n",
    "        return 1\n",
    "    else:\n",
    "        return 0\n",
    "        \n",
    "temp1 = filled_title.progress_apply(lambda x:check_titile(x))"
   ]
  },
  {
   "cell_type": "code",
   "execution_count": 43,
   "metadata": {},
   "outputs": [
    {
     "data": {
      "text/html": [
       "<div>\n",
       "<style scoped>\n",
       "    .dataframe tbody tr th:only-of-type {\n",
       "        vertical-align: middle;\n",
       "    }\n",
       "\n",
       "    .dataframe tbody tr th {\n",
       "        vertical-align: top;\n",
       "    }\n",
       "\n",
       "    .dataframe thead th {\n",
       "        text-align: right;\n",
       "    }\n",
       "</style>\n",
       "<table border=\"1\" class=\"dataframe\">\n",
       "  <thead>\n",
       "    <tr style=\"text-align: right;\">\n",
       "      <th></th>\n",
       "      <th>Title</th>\n",
       "      <th>Body</th>\n",
       "      <th>Over_18</th>\n",
       "      <th>Subreddit</th>\n",
       "      <th>year</th>\n",
       "      <th>hour</th>\n",
       "    </tr>\n",
       "  </thead>\n",
       "  <tbody>\n",
       "    <tr>\n",
       "      <th>33</th>\n",
       "      <td>i just want to curl up and die so i won't bog ...</td>\n",
       "      <td>it's all I do \\n\\nit's 2:04 am and im crying a...</td>\n",
       "      <td>0</td>\n",
       "      <td>0</td>\n",
       "      <td>2014</td>\n",
       "      <td>8</td>\n",
       "    </tr>\n",
       "    <tr>\n",
       "      <th>308</th>\n",
       "      <td>I feel hopelessly lost and want to just lay do...</td>\n",
       "      <td>What do you say to coworkers who ask stupid sh...</td>\n",
       "      <td>0</td>\n",
       "      <td>0</td>\n",
       "      <td>2015</td>\n",
       "      <td>11</td>\n",
       "    </tr>\n",
       "    <tr>\n",
       "      <th>2242</th>\n",
       "      <td>I smoke and don't exercise because I want to die</td>\n",
       "      <td>This isn't a suicide post. I'm not brave enoug...</td>\n",
       "      <td>0</td>\n",
       "      <td>0</td>\n",
       "      <td>2015</td>\n",
       "      <td>17</td>\n",
       "    </tr>\n",
       "    <tr>\n",
       "      <th>2271</th>\n",
       "      <td>I don't want to die but this is no way to live</td>\n",
       "      <td>The title says it all. I don't want to die but...</td>\n",
       "      <td>0</td>\n",
       "      <td>0</td>\n",
       "      <td>2016</td>\n",
       "      <td>11</td>\n",
       "    </tr>\n",
       "    <tr>\n",
       "      <th>2541</th>\n",
       "      <td>all i want to do is die. i don't see the point...</td>\n",
       "      <td>i posted in r/suicidenotes also, because that ...</td>\n",
       "      <td>0</td>\n",
       "      <td>0</td>\n",
       "      <td>2017</td>\n",
       "      <td>20</td>\n",
       "    </tr>\n",
       "    <tr>\n",
       "      <th>...</th>\n",
       "      <td>...</td>\n",
       "      <td>...</td>\n",
       "      <td>...</td>\n",
       "      <td>...</td>\n",
       "      <td>...</td>\n",
       "      <td>...</td>\n",
       "    </tr>\n",
       "    <tr>\n",
       "      <th>98172</th>\n",
       "      <td>I'm about to fail out of college, be left with...</td>\n",
       "      <td>Context: I worked extremely hard in high schoo...</td>\n",
       "      <td>0</td>\n",
       "      <td>0</td>\n",
       "      <td>2014</td>\n",
       "      <td>15</td>\n",
       "    </tr>\n",
       "    <tr>\n",
       "      <th>98213</th>\n",
       "      <td>I want to die</td>\n",
       "      <td>This life is so difficult and I just want out....</td>\n",
       "      <td>0</td>\n",
       "      <td>0</td>\n",
       "      <td>2017</td>\n",
       "      <td>4</td>\n",
       "    </tr>\n",
       "    <tr>\n",
       "      <th>99299</th>\n",
       "      <td>new vent account + not wanting to die, per say...</td>\n",
       "      <td>Been posting here for a couple of days on a di...</td>\n",
       "      <td>0</td>\n",
       "      <td>0</td>\n",
       "      <td>2017</td>\n",
       "      <td>5</td>\n",
       "    </tr>\n",
       "    <tr>\n",
       "      <th>99750</th>\n",
       "      <td>I want to die but can't do it...</td>\n",
       "      <td>I love gaming and live for the weekends except...</td>\n",
       "      <td>0</td>\n",
       "      <td>0</td>\n",
       "      <td>2017</td>\n",
       "      <td>11</td>\n",
       "    </tr>\n",
       "    <tr>\n",
       "      <th>99928</th>\n",
       "      <td>I don't want my dog to die.</td>\n",
       "      <td>So, me and my brother were discussing World Wa...</td>\n",
       "      <td>0</td>\n",
       "      <td>0</td>\n",
       "      <td>2016</td>\n",
       "      <td>0</td>\n",
       "    </tr>\n",
       "  </tbody>\n",
       "</table>\n",
       "<p>255 rows × 6 columns</p>\n",
       "</div>"
      ],
      "text/plain": [
       "                                                   Title  \\\n",
       "33     i just want to curl up and die so i won't bog ...   \n",
       "308    I feel hopelessly lost and want to just lay do...   \n",
       "2242    I smoke and don't exercise because I want to die   \n",
       "2271      I don't want to die but this is no way to live   \n",
       "2541   all i want to do is die. i don't see the point...   \n",
       "...                                                  ...   \n",
       "98172  I'm about to fail out of college, be left with...   \n",
       "98213                                      I want to die   \n",
       "99299  new vent account + not wanting to die, per say...   \n",
       "99750                   I want to die but can't do it...   \n",
       "99928                        I don't want my dog to die.   \n",
       "\n",
       "                                                    Body  Over_18  Subreddit  \\\n",
       "33     it's all I do \\n\\nit's 2:04 am and im crying a...        0          0   \n",
       "308    What do you say to coworkers who ask stupid sh...        0          0   \n",
       "2242   This isn't a suicide post. I'm not brave enoug...        0          0   \n",
       "2271   The title says it all. I don't want to die but...        0          0   \n",
       "2541   i posted in r/suicidenotes also, because that ...        0          0   \n",
       "...                                                  ...      ...        ...   \n",
       "98172  Context: I worked extremely hard in high schoo...        0          0   \n",
       "98213  This life is so difficult and I just want out....        0          0   \n",
       "99299  Been posting here for a couple of days on a di...        0          0   \n",
       "99750  I love gaming and live for the weekends except...        0          0   \n",
       "99928  So, me and my brother were discussing World Wa...        0          0   \n",
       "\n",
       "       year  hour  \n",
       "33     2014     8  \n",
       "308    2015    11  \n",
       "2242   2015    17  \n",
       "2271   2016    11  \n",
       "2541   2017    20  \n",
       "...     ...   ...  \n",
       "98172  2014    15  \n",
       "98213  2017     4  \n",
       "99299  2017     5  \n",
       "99750  2017    11  \n",
       "99928  2016     0  \n",
       "\n",
       "[255 rows x 6 columns]"
      ]
     },
     "execution_count": 43,
     "metadata": {},
     "output_type": "execute_result"
    }
   ],
   "source": [
    "df1.loc[temp1[temp1==1].index][df1.loc[temp1[temp1==1].index].Subreddit==0]"
   ]
  },
  {
   "cell_type": "code",
   "execution_count": 44,
   "metadata": {},
   "outputs": [],
   "source": [
    "Tfidf=TfidfVectorizer(ngram_range=(1,1),max_features=1000)"
   ]
  },
  {
   "cell_type": "code",
   "execution_count": 45,
   "metadata": {},
   "outputs": [],
   "source": [
    "tfidf = Tfidf.fit(word_token)"
   ]
  },
  {
   "cell_type": "code",
   "execution_count": 46,
   "metadata": {},
   "outputs": [],
   "source": [
    "tfidf_data = tfidf.fit_transform(filled_title)"
   ]
  },
  {
   "cell_type": "code",
   "execution_count": 47,
   "metadata": {},
   "outputs": [
    {
     "data": {
      "text/plain": [
       "array([[0.        , 0.        , 0.        , ..., 0.47774035, 0.        ,\n",
       "        0.        ],\n",
       "       [0.        , 0.        , 0.        , ..., 0.        , 0.        ,\n",
       "        0.        ],\n",
       "       [0.        , 0.        , 0.        , ..., 0.        , 0.        ,\n",
       "        0.        ],\n",
       "       ...,\n",
       "       [0.        , 0.        , 0.        , ..., 0.        , 0.        ,\n",
       "        0.        ],\n",
       "       [0.        , 0.        , 0.        , ..., 0.        , 0.        ,\n",
       "        0.        ],\n",
       "       [0.        , 0.        , 0.        , ..., 0.        , 0.        ,\n",
       "        0.        ]])"
      ]
     },
     "execution_count": 47,
     "metadata": {},
     "output_type": "execute_result"
    }
   ],
   "source": [
    "tfidf_data.toarray()"
   ]
  },
  {
   "cell_type": "code",
   "execution_count": 48,
   "metadata": {},
   "outputs": [],
   "source": [
    "tf_df=pd.DataFrame(tfidf_data.toarray(),columns=tfidf.get_feature_names())#.to_csv('tfidf.csv')"
   ]
  },
  {
   "cell_type": "code",
   "execution_count": 49,
   "metadata": {},
   "outputs": [],
   "source": [
    "# import pandas as pd\n",
    "# from sklearn import preprocessing\n",
    "\n",
    "# x = tf_df.values #returns a numpy array\n",
    "# min_max_scaler = preprocessing.MinMaxScaler()\n",
    "# x_scaled = min_max_scaler.fit_transform(x)\n",
    "# df = pd.DataFrame(x_scaled)"
   ]
  },
  {
   "cell_type": "code",
   "execution_count": 50,
   "metadata": {},
   "outputs": [
    {
     "data": {
      "text/html": [
       "<div>\n",
       "<style scoped>\n",
       "    .dataframe tbody tr th:only-of-type {\n",
       "        vertical-align: middle;\n",
       "    }\n",
       "\n",
       "    .dataframe tbody tr th {\n",
       "        vertical-align: top;\n",
       "    }\n",
       "\n",
       "    .dataframe thead th {\n",
       "        text-align: right;\n",
       "    }\n",
       "</style>\n",
       "<table border=\"1\" class=\"dataframe\">\n",
       "  <thead>\n",
       "    <tr style=\"text-align: right;\">\n",
       "      <th></th>\n",
       "      <th>abandon</th>\n",
       "      <th>abl</th>\n",
       "      <th>absolut</th>\n",
       "      <th>abus</th>\n",
       "      <th>accept</th>\n",
       "      <th>accid</th>\n",
       "      <th>accomplish</th>\n",
       "      <th>account</th>\n",
       "      <th>achiev</th>\n",
       "      <th>act</th>\n",
       "      <th>...</th>\n",
       "      <th>xpost</th>\n",
       "      <th>yeah</th>\n",
       "      <th>year</th>\n",
       "      <th>yesterday</th>\n",
       "      <th>yet</th>\n",
       "      <th>yo</th>\n",
       "      <th>young</th>\n",
       "      <th>your</th>\n",
       "      <th>youv</th>\n",
       "      <th>zoloft</th>\n",
       "    </tr>\n",
       "  </thead>\n",
       "  <tbody>\n",
       "    <tr>\n",
       "      <th>0</th>\n",
       "      <td>0.0</td>\n",
       "      <td>0.0</td>\n",
       "      <td>0.0</td>\n",
       "      <td>0.0</td>\n",
       "      <td>0.0</td>\n",
       "      <td>0.0</td>\n",
       "      <td>0.0</td>\n",
       "      <td>0.0</td>\n",
       "      <td>0.0</td>\n",
       "      <td>0.0</td>\n",
       "      <td>...</td>\n",
       "      <td>0.0</td>\n",
       "      <td>0.0</td>\n",
       "      <td>0.0</td>\n",
       "      <td>0.0</td>\n",
       "      <td>0.0</td>\n",
       "      <td>0.0</td>\n",
       "      <td>0.0</td>\n",
       "      <td>0.47774</td>\n",
       "      <td>0.0</td>\n",
       "      <td>0.0</td>\n",
       "    </tr>\n",
       "    <tr>\n",
       "      <th>1</th>\n",
       "      <td>0.0</td>\n",
       "      <td>0.0</td>\n",
       "      <td>0.0</td>\n",
       "      <td>0.0</td>\n",
       "      <td>0.0</td>\n",
       "      <td>0.0</td>\n",
       "      <td>0.0</td>\n",
       "      <td>0.0</td>\n",
       "      <td>0.0</td>\n",
       "      <td>0.0</td>\n",
       "      <td>...</td>\n",
       "      <td>0.0</td>\n",
       "      <td>0.0</td>\n",
       "      <td>0.0</td>\n",
       "      <td>0.0</td>\n",
       "      <td>0.0</td>\n",
       "      <td>0.0</td>\n",
       "      <td>0.0</td>\n",
       "      <td>0.00000</td>\n",
       "      <td>0.0</td>\n",
       "      <td>0.0</td>\n",
       "    </tr>\n",
       "    <tr>\n",
       "      <th>2</th>\n",
       "      <td>0.0</td>\n",
       "      <td>0.0</td>\n",
       "      <td>0.0</td>\n",
       "      <td>0.0</td>\n",
       "      <td>0.0</td>\n",
       "      <td>0.0</td>\n",
       "      <td>0.0</td>\n",
       "      <td>0.0</td>\n",
       "      <td>0.0</td>\n",
       "      <td>0.0</td>\n",
       "      <td>...</td>\n",
       "      <td>0.0</td>\n",
       "      <td>0.0</td>\n",
       "      <td>0.0</td>\n",
       "      <td>0.0</td>\n",
       "      <td>0.0</td>\n",
       "      <td>0.0</td>\n",
       "      <td>0.0</td>\n",
       "      <td>0.00000</td>\n",
       "      <td>0.0</td>\n",
       "      <td>0.0</td>\n",
       "    </tr>\n",
       "    <tr>\n",
       "      <th>3</th>\n",
       "      <td>0.0</td>\n",
       "      <td>0.0</td>\n",
       "      <td>0.0</td>\n",
       "      <td>0.0</td>\n",
       "      <td>0.0</td>\n",
       "      <td>0.0</td>\n",
       "      <td>0.0</td>\n",
       "      <td>0.0</td>\n",
       "      <td>0.0</td>\n",
       "      <td>0.0</td>\n",
       "      <td>...</td>\n",
       "      <td>0.0</td>\n",
       "      <td>0.0</td>\n",
       "      <td>0.0</td>\n",
       "      <td>0.0</td>\n",
       "      <td>0.0</td>\n",
       "      <td>0.0</td>\n",
       "      <td>0.0</td>\n",
       "      <td>0.00000</td>\n",
       "      <td>0.0</td>\n",
       "      <td>0.0</td>\n",
       "    </tr>\n",
       "    <tr>\n",
       "      <th>4</th>\n",
       "      <td>0.0</td>\n",
       "      <td>0.0</td>\n",
       "      <td>0.0</td>\n",
       "      <td>0.0</td>\n",
       "      <td>0.0</td>\n",
       "      <td>0.0</td>\n",
       "      <td>0.0</td>\n",
       "      <td>0.0</td>\n",
       "      <td>0.0</td>\n",
       "      <td>0.0</td>\n",
       "      <td>...</td>\n",
       "      <td>0.0</td>\n",
       "      <td>0.0</td>\n",
       "      <td>0.0</td>\n",
       "      <td>0.0</td>\n",
       "      <td>0.0</td>\n",
       "      <td>0.0</td>\n",
       "      <td>0.0</td>\n",
       "      <td>0.00000</td>\n",
       "      <td>0.0</td>\n",
       "      <td>0.0</td>\n",
       "    </tr>\n",
       "    <tr>\n",
       "      <th>...</th>\n",
       "      <td>...</td>\n",
       "      <td>...</td>\n",
       "      <td>...</td>\n",
       "      <td>...</td>\n",
       "      <td>...</td>\n",
       "      <td>...</td>\n",
       "      <td>...</td>\n",
       "      <td>...</td>\n",
       "      <td>...</td>\n",
       "      <td>...</td>\n",
       "      <td>...</td>\n",
       "      <td>...</td>\n",
       "      <td>...</td>\n",
       "      <td>...</td>\n",
       "      <td>...</td>\n",
       "      <td>...</td>\n",
       "      <td>...</td>\n",
       "      <td>...</td>\n",
       "      <td>...</td>\n",
       "      <td>...</td>\n",
       "      <td>...</td>\n",
       "    </tr>\n",
       "    <tr>\n",
       "      <th>99995</th>\n",
       "      <td>0.0</td>\n",
       "      <td>0.0</td>\n",
       "      <td>0.0</td>\n",
       "      <td>0.0</td>\n",
       "      <td>0.0</td>\n",
       "      <td>0.0</td>\n",
       "      <td>0.0</td>\n",
       "      <td>0.0</td>\n",
       "      <td>0.0</td>\n",
       "      <td>0.0</td>\n",
       "      <td>...</td>\n",
       "      <td>0.0</td>\n",
       "      <td>0.0</td>\n",
       "      <td>0.0</td>\n",
       "      <td>0.0</td>\n",
       "      <td>0.0</td>\n",
       "      <td>0.0</td>\n",
       "      <td>0.0</td>\n",
       "      <td>0.00000</td>\n",
       "      <td>0.0</td>\n",
       "      <td>0.0</td>\n",
       "    </tr>\n",
       "    <tr>\n",
       "      <th>99996</th>\n",
       "      <td>0.0</td>\n",
       "      <td>0.0</td>\n",
       "      <td>0.0</td>\n",
       "      <td>0.0</td>\n",
       "      <td>0.0</td>\n",
       "      <td>0.0</td>\n",
       "      <td>0.0</td>\n",
       "      <td>0.0</td>\n",
       "      <td>0.0</td>\n",
       "      <td>0.0</td>\n",
       "      <td>...</td>\n",
       "      <td>0.0</td>\n",
       "      <td>0.0</td>\n",
       "      <td>0.0</td>\n",
       "      <td>0.0</td>\n",
       "      <td>0.0</td>\n",
       "      <td>0.0</td>\n",
       "      <td>0.0</td>\n",
       "      <td>0.00000</td>\n",
       "      <td>0.0</td>\n",
       "      <td>0.0</td>\n",
       "    </tr>\n",
       "    <tr>\n",
       "      <th>99997</th>\n",
       "      <td>0.0</td>\n",
       "      <td>0.0</td>\n",
       "      <td>0.0</td>\n",
       "      <td>0.0</td>\n",
       "      <td>0.0</td>\n",
       "      <td>0.0</td>\n",
       "      <td>0.0</td>\n",
       "      <td>0.0</td>\n",
       "      <td>0.0</td>\n",
       "      <td>0.0</td>\n",
       "      <td>...</td>\n",
       "      <td>0.0</td>\n",
       "      <td>0.0</td>\n",
       "      <td>0.0</td>\n",
       "      <td>0.0</td>\n",
       "      <td>0.0</td>\n",
       "      <td>0.0</td>\n",
       "      <td>0.0</td>\n",
       "      <td>0.00000</td>\n",
       "      <td>0.0</td>\n",
       "      <td>0.0</td>\n",
       "    </tr>\n",
       "    <tr>\n",
       "      <th>99998</th>\n",
       "      <td>0.0</td>\n",
       "      <td>0.0</td>\n",
       "      <td>0.0</td>\n",
       "      <td>0.0</td>\n",
       "      <td>0.0</td>\n",
       "      <td>0.0</td>\n",
       "      <td>0.0</td>\n",
       "      <td>0.0</td>\n",
       "      <td>0.0</td>\n",
       "      <td>0.0</td>\n",
       "      <td>...</td>\n",
       "      <td>0.0</td>\n",
       "      <td>0.0</td>\n",
       "      <td>0.0</td>\n",
       "      <td>0.0</td>\n",
       "      <td>0.0</td>\n",
       "      <td>0.0</td>\n",
       "      <td>0.0</td>\n",
       "      <td>0.00000</td>\n",
       "      <td>0.0</td>\n",
       "      <td>0.0</td>\n",
       "    </tr>\n",
       "    <tr>\n",
       "      <th>99999</th>\n",
       "      <td>0.0</td>\n",
       "      <td>0.0</td>\n",
       "      <td>0.0</td>\n",
       "      <td>0.0</td>\n",
       "      <td>0.0</td>\n",
       "      <td>0.0</td>\n",
       "      <td>0.0</td>\n",
       "      <td>0.0</td>\n",
       "      <td>0.0</td>\n",
       "      <td>0.0</td>\n",
       "      <td>...</td>\n",
       "      <td>0.0</td>\n",
       "      <td>0.0</td>\n",
       "      <td>0.0</td>\n",
       "      <td>0.0</td>\n",
       "      <td>0.0</td>\n",
       "      <td>0.0</td>\n",
       "      <td>0.0</td>\n",
       "      <td>0.00000</td>\n",
       "      <td>0.0</td>\n",
       "      <td>0.0</td>\n",
       "    </tr>\n",
       "  </tbody>\n",
       "</table>\n",
       "<p>100000 rows × 1000 columns</p>\n",
       "</div>"
      ],
      "text/plain": [
       "       abandon  abl  absolut  abus  accept  accid  accomplish  account  \\\n",
       "0          0.0  0.0      0.0   0.0     0.0    0.0         0.0      0.0   \n",
       "1          0.0  0.0      0.0   0.0     0.0    0.0         0.0      0.0   \n",
       "2          0.0  0.0      0.0   0.0     0.0    0.0         0.0      0.0   \n",
       "3          0.0  0.0      0.0   0.0     0.0    0.0         0.0      0.0   \n",
       "4          0.0  0.0      0.0   0.0     0.0    0.0         0.0      0.0   \n",
       "...        ...  ...      ...   ...     ...    ...         ...      ...   \n",
       "99995      0.0  0.0      0.0   0.0     0.0    0.0         0.0      0.0   \n",
       "99996      0.0  0.0      0.0   0.0     0.0    0.0         0.0      0.0   \n",
       "99997      0.0  0.0      0.0   0.0     0.0    0.0         0.0      0.0   \n",
       "99998      0.0  0.0      0.0   0.0     0.0    0.0         0.0      0.0   \n",
       "99999      0.0  0.0      0.0   0.0     0.0    0.0         0.0      0.0   \n",
       "\n",
       "       achiev  act  ...  xpost  yeah  year  yesterday  yet   yo  young  \\\n",
       "0         0.0  0.0  ...    0.0   0.0   0.0        0.0  0.0  0.0    0.0   \n",
       "1         0.0  0.0  ...    0.0   0.0   0.0        0.0  0.0  0.0    0.0   \n",
       "2         0.0  0.0  ...    0.0   0.0   0.0        0.0  0.0  0.0    0.0   \n",
       "3         0.0  0.0  ...    0.0   0.0   0.0        0.0  0.0  0.0    0.0   \n",
       "4         0.0  0.0  ...    0.0   0.0   0.0        0.0  0.0  0.0    0.0   \n",
       "...       ...  ...  ...    ...   ...   ...        ...  ...  ...    ...   \n",
       "99995     0.0  0.0  ...    0.0   0.0   0.0        0.0  0.0  0.0    0.0   \n",
       "99996     0.0  0.0  ...    0.0   0.0   0.0        0.0  0.0  0.0    0.0   \n",
       "99997     0.0  0.0  ...    0.0   0.0   0.0        0.0  0.0  0.0    0.0   \n",
       "99998     0.0  0.0  ...    0.0   0.0   0.0        0.0  0.0  0.0    0.0   \n",
       "99999     0.0  0.0  ...    0.0   0.0   0.0        0.0  0.0  0.0    0.0   \n",
       "\n",
       "          your  youv  zoloft  \n",
       "0      0.47774   0.0     0.0  \n",
       "1      0.00000   0.0     0.0  \n",
       "2      0.00000   0.0     0.0  \n",
       "3      0.00000   0.0     0.0  \n",
       "4      0.00000   0.0     0.0  \n",
       "...        ...   ...     ...  \n",
       "99995  0.00000   0.0     0.0  \n",
       "99996  0.00000   0.0     0.0  \n",
       "99997  0.00000   0.0     0.0  \n",
       "99998  0.00000   0.0     0.0  \n",
       "99999  0.00000   0.0     0.0  \n",
       "\n",
       "[100000 rows x 1000 columns]"
      ]
     },
     "execution_count": 50,
     "metadata": {},
     "output_type": "execute_result"
    }
   ],
   "source": [
    "tf_df"
   ]
  },
  {
   "cell_type": "code",
   "execution_count": null,
   "metadata": {},
   "outputs": [],
   "source": []
  },
  {
   "cell_type": "code",
   "execution_count": 51,
   "metadata": {},
   "outputs": [
    {
     "name": "stdout",
     "output_type": "stream",
     "text": [
      "Wall time: 2min 35s\n"
     ]
    }
   ],
   "source": [
    "from sklearn.cluster import KMeans\n",
    "k_means_result=[]\n",
    "K=20\n",
    "km = KMeans(n_clusters=K, random_state=0)\n",
    "%time km.fit(tf_df)\n",
    "k_means_result.append(km.inertia_)\n",
    "clusters = km.labels_.tolist()"
   ]
  },
  {
   "cell_type": "code",
   "execution_count": 52,
   "metadata": {},
   "outputs": [],
   "source": [
    "emp=pd.DataFrame(df1)"
   ]
  },
  {
   "cell_type": "code",
   "execution_count": 53,
   "metadata": {},
   "outputs": [],
   "source": [
    "emp['Filter_data']=filled_title"
   ]
  },
  {
   "cell_type": "code",
   "execution_count": 54,
   "metadata": {},
   "outputs": [],
   "source": [
    "emp['cluster']=clusters"
   ]
  },
  {
   "cell_type": "code",
   "execution_count": 55,
   "metadata": {},
   "outputs": [],
   "source": [
    "emp['Int_want_die']=temp1"
   ]
  },
  {
   "cell_type": "code",
   "execution_count": 56,
   "metadata": {},
   "outputs": [
    {
     "data": {
      "text/plain": [
       "array([ 0,  9, 13,  1,  2,  3,  4, 15, 10,  6, 12,  5, 18, 14, 16,  8, 11,\n",
       "        7, 17, 19], dtype=int64)"
      ]
     },
     "execution_count": 56,
     "metadata": {},
     "output_type": "execute_result"
    }
   ],
   "source": [
    "emp['cluster'].unique()"
   ]
  },
  {
   "cell_type": "code",
   "execution_count": 57,
   "metadata": {},
   "outputs": [],
   "source": [
    "comm_word=[]\n",
    "for ix in range(K):\n",
    "    temp = [i for i in nltk.FreqDist(nltk.word_tokenize(' '.join(emp[emp['cluster']==ix]['Filter_data'])))]\n",
    "    if ix==1:\n",
    "        comm_word=temp.copy()\n",
    "    else:\n",
    "        comm_word = set(comm_word).intersection(temp)"
   ]
  },
  {
   "cell_type": "code",
   "execution_count": 58,
   "metadata": {},
   "outputs": [],
   "source": [
    "comm_word=[]"
   ]
  },
  {
   "cell_type": "code",
   "execution_count": 59,
   "metadata": {},
   "outputs": [],
   "source": [
    "dic={}\n",
    "for i in emp.cluster.unique():\n",
    "    dic[i]=' '.join([se for sent in nltk.sent_tokenize(' '.join(emp[emp['cluster']==i]['Filter_data'])) for se in nltk.word_tokenize(sent) if se not in comm_word])"
   ]
  },
  {
   "cell_type": "code",
   "execution_count": 60,
   "metadata": {},
   "outputs": [
    {
     "name": "stdout",
     "output_type": "stream",
     "text": [
      "                                                                                "
     ]
    }
   ],
   "source": [
    "cluster_dict={}\n",
    "for i in emp.cluster.unique():\n",
    "    #print(' ')\n",
    "    #print('Cluster',i)\n",
    "    print('    ',end='')\n",
    "    cluster_dict[i]=', '.join([i[0] for i in nltk.FreqDist(dic[i].split(' ')).most_common()[:10]])"
   ]
  },
  {
   "cell_type": "code",
   "execution_count": 61,
   "metadata": {},
   "outputs": [
    {
     "data": {
      "text/plain": [
       "{0: 'suicid, thought, not, commit, feel, think, attempt, friend, depress, note',\n",
       " 9: 'not, anymor, want, think, go, anyth, feel, happi, care, see',\n",
       " 13: 'hate, life, not, peopl, fuck, feel, depress, everyon, everyth, friend',\n",
       " 1: 'not, go, want, think, need, friend, anyon, tri, peopl, tire',\n",
       " 2: 'alon, feel, not, want, go, depress, die, tire, peopl, life',\n",
       " 3: 'feel, not, anyon, els, make, better, want, realli, go, lost',\n",
       " 4: 'die, want, not, go, think, feel, realli, live, kill, friend',\n",
       " 15: 'get, not, better, help, depress, wors, feel, want, life, need',\n",
       " 10: 'know, not, anymor, depress, go, feel, want, realli, help, els',\n",
       " 6: 'end, want, life, not, think, feel, go, know, tonight, rope',\n",
       " 12: 'kill, want, not, go, think, tri, tonight, friend, feel, self',\n",
       " 5: 'talk, someon, need, want, anyon, not, pleas, realli, feel, depress',\n",
       " 18: 'help, need, not, friend, depress, someon, realli, know, want, think',\n",
       " 14: 'depress, not, feel, help, think, anyon, anxieti, make, peopl, friend',\n",
       " 16: 'live, not, want, anymor, life, reason, feel, keep, worth, tire',\n",
       " 8: 'fuck, not, life, want, depress, feel, everyth, shit, kill, tire',\n",
       " 11: 'life, not, feel, depress, ruin, go, want, think, peopl, good',\n",
       " 7: 'wish, not, kill, die, dead, someon, life, go, peopl, realli',\n",
       " 17: 'pleas, help, not, someon, need, depress, advic, talk, suicid, kill',\n",
       " 19: 'sure, not, depress, feel, go, realli, help, anymor, want, post'}"
      ]
     },
     "execution_count": 61,
     "metadata": {},
     "output_type": "execute_result"
    }
   ],
   "source": [
    "cluster_dict "
   ]
  },
  {
   "cell_type": "code",
   "execution_count": 62,
   "metadata": {},
   "outputs": [],
   "source": [
    "final_data = pd.DataFrame(cluster_dict,index=[0]).T.reset_index()"
   ]
  },
  {
   "cell_type": "code",
   "execution_count": 63,
   "metadata": {},
   "outputs": [
    {
     "data": {
      "text/plain": [
       "Index(['Title', 'Body', 'Over_18', 'Subreddit', 'year', 'hour', 'Filter_data',\n",
       "       'cluster', 'Int_want_die'],\n",
       "      dtype='object')"
      ]
     },
     "execution_count": 63,
     "metadata": {},
     "output_type": "execute_result"
    }
   ],
   "source": [
    "emp.columns"
   ]
  },
  {
   "cell_type": "code",
   "execution_count": 64,
   "metadata": {},
   "outputs": [],
   "source": [
    "final_data.columns=['cluster','Words']"
   ]
  },
  {
   "cell_type": "code",
   "execution_count": 65,
   "metadata": {},
   "outputs": [],
   "source": [
    "final_data=final_data.merge(emp,on='cluster',how='inner')"
   ]
  },
  {
   "cell_type": "code",
   "execution_count": 66,
   "metadata": {},
   "outputs": [
    {
     "data": {
      "text/plain": [
       "1     0.46219\n",
       "9     0.06808\n",
       "14    0.05377\n",
       "3     0.05193\n",
       "0     0.04569\n",
       "15    0.03725\n",
       "11    0.03590\n",
       "12    0.03112\n",
       "10    0.02932\n",
       "18    0.02789\n",
       "4     0.02535\n",
       "16    0.02077\n",
       "6     0.01909\n",
       "8     0.01692\n",
       "5     0.01664\n",
       "13    0.01343\n",
       "17    0.01336\n",
       "2     0.01160\n",
       "7     0.01054\n",
       "19    0.00916\n",
       "Name: cluster, dtype: float64"
      ]
     },
     "execution_count": 66,
     "metadata": {},
     "output_type": "execute_result"
    }
   ],
   "source": [
    "final_data['cluster'].value_counts(normalize=True)"
   ]
  },
  {
   "cell_type": "code",
   "execution_count": 67,
   "metadata": {
    "scrolled": false
   },
   "outputs": [],
   "source": [
    "# temp.to_csv('Final_data_tdtdf_suicide.csv')"
   ]
  },
  {
   "cell_type": "code",
   "execution_count": 68,
   "metadata": {},
   "outputs": [],
   "source": [
    "cluster8=final_data[final_data['cluster']==1]['Filter_data']"
   ]
  },
  {
   "cell_type": "code",
   "execution_count": 69,
   "metadata": {},
   "outputs": [
    {
     "data": {
      "text/plain": [
       "Int64Index([12720, 12721, 12722, 12723, 12724, 12725, 12726, 12727, 12728,\n",
       "            12729,\n",
       "            ...\n",
       "            58929, 58930, 58931, 58932, 58933, 58934, 58935, 58936, 58937,\n",
       "            58938],\n",
       "           dtype='int64', length=46219)"
      ]
     },
     "execution_count": 69,
     "metadata": {},
     "output_type": "execute_result"
    }
   ],
   "source": [
    "cluster8.index"
   ]
  },
  {
   "cell_type": "code",
   "execution_count": 70,
   "metadata": {},
   "outputs": [],
   "source": [
    "nltk.FreqDist(nltk.trigrams(nltk.word_tokenize(' '.join(cluster8)))).most_common();"
   ]
  },
  {
   "cell_type": "code",
   "execution_count": 71,
   "metadata": {},
   "outputs": [],
   "source": [
    "Tfidf_clu8=TfidfVectorizer(ngram_range=(1,1),max_features=1000)"
   ]
  },
  {
   "cell_type": "code",
   "execution_count": 72,
   "metadata": {},
   "outputs": [],
   "source": [
    "word_token_clu8= nltk.word_tokenize(' '.join(cluster8.to_list()))"
   ]
  },
  {
   "cell_type": "code",
   "execution_count": 73,
   "metadata": {},
   "outputs": [],
   "source": [
    "tfidf_clu8 = Tfidf.fit(word_token_clu8)"
   ]
  },
  {
   "cell_type": "code",
   "execution_count": 74,
   "metadata": {},
   "outputs": [],
   "source": [
    "tfidf_data_clu8 = tfidf.fit_transform(cluster8)"
   ]
  },
  {
   "cell_type": "code",
   "execution_count": 75,
   "metadata": {},
   "outputs": [
    {
     "data": {
      "text/plain": [
       "array([[0.        , 0.        , 0.        , ..., 0.        , 0.        ,\n",
       "        0.        ],\n",
       "       [0.        , 0.        , 0.        , ..., 0.        , 0.        ,\n",
       "        0.        ],\n",
       "       [0.        , 0.        , 0.58933586, ..., 0.        , 0.        ,\n",
       "        0.        ],\n",
       "       ...,\n",
       "       [0.        , 0.        , 0.        , ..., 0.        , 0.        ,\n",
       "        0.        ],\n",
       "       [0.        , 0.        , 0.        , ..., 0.        , 0.        ,\n",
       "        0.        ],\n",
       "       [0.        , 0.        , 0.        , ..., 0.        , 0.        ,\n",
       "        0.        ]])"
      ]
     },
     "execution_count": 75,
     "metadata": {},
     "output_type": "execute_result"
    }
   ],
   "source": [
    "tfidf_data_clu8.toarray()"
   ]
  },
  {
   "cell_type": "code",
   "execution_count": 76,
   "metadata": {},
   "outputs": [],
   "source": [
    "tf_df_clu8=pd.DataFrame(tfidf_data_clu8.toarray(),columns=tfidf_clu8.get_feature_names())#.to_csv('tfidf.csv')"
   ]
  },
  {
   "cell_type": "code",
   "execution_count": 77,
   "metadata": {},
   "outputs": [
    {
     "data": {
      "text/html": [
       "<div>\n",
       "<style scoped>\n",
       "    .dataframe tbody tr th:only-of-type {\n",
       "        vertical-align: middle;\n",
       "    }\n",
       "\n",
       "    .dataframe tbody tr th {\n",
       "        vertical-align: top;\n",
       "    }\n",
       "\n",
       "    .dataframe thead th {\n",
       "        text-align: right;\n",
       "    }\n",
       "</style>\n",
       "<table border=\"1\" class=\"dataframe\">\n",
       "  <thead>\n",
       "    <tr style=\"text-align: right;\">\n",
       "      <th></th>\n",
       "      <th>die</th>\n",
       "      <th>help</th>\n",
       "      <th>suicid</th>\n",
       "      <th>kill</th>\n",
       "      <th>live</th>\n",
       "      <th>kill</th>\n",
       "      <th>talk</th>\n",
       "      <th>harm</th>\n",
       "      <th>empti</th>\n",
       "      <th>depress</th>\n",
       "      <th>life</th>\n",
       "      <th>mental</th>\n",
       "    </tr>\n",
       "  </thead>\n",
       "  <tbody>\n",
       "    <tr>\n",
       "      <th>0</th>\n",
       "      <td>0.0</td>\n",
       "      <td>0.0</td>\n",
       "      <td>0.0</td>\n",
       "      <td>0.0</td>\n",
       "      <td>0.0</td>\n",
       "      <td>0.0</td>\n",
       "      <td>0.0</td>\n",
       "      <td>0.0</td>\n",
       "      <td>0.0</td>\n",
       "      <td>0.0</td>\n",
       "      <td>0.0</td>\n",
       "      <td>0.0</td>\n",
       "    </tr>\n",
       "    <tr>\n",
       "      <th>1</th>\n",
       "      <td>0.0</td>\n",
       "      <td>0.0</td>\n",
       "      <td>0.0</td>\n",
       "      <td>0.0</td>\n",
       "      <td>0.0</td>\n",
       "      <td>0.0</td>\n",
       "      <td>0.0</td>\n",
       "      <td>0.0</td>\n",
       "      <td>0.0</td>\n",
       "      <td>0.0</td>\n",
       "      <td>0.0</td>\n",
       "      <td>0.0</td>\n",
       "    </tr>\n",
       "    <tr>\n",
       "      <th>2</th>\n",
       "      <td>0.0</td>\n",
       "      <td>0.0</td>\n",
       "      <td>0.0</td>\n",
       "      <td>0.0</td>\n",
       "      <td>0.0</td>\n",
       "      <td>0.0</td>\n",
       "      <td>0.0</td>\n",
       "      <td>0.0</td>\n",
       "      <td>0.0</td>\n",
       "      <td>0.0</td>\n",
       "      <td>0.0</td>\n",
       "      <td>0.0</td>\n",
       "    </tr>\n",
       "    <tr>\n",
       "      <th>3</th>\n",
       "      <td>0.0</td>\n",
       "      <td>0.0</td>\n",
       "      <td>0.0</td>\n",
       "      <td>0.0</td>\n",
       "      <td>0.0</td>\n",
       "      <td>0.0</td>\n",
       "      <td>0.0</td>\n",
       "      <td>0.0</td>\n",
       "      <td>0.0</td>\n",
       "      <td>0.0</td>\n",
       "      <td>0.0</td>\n",
       "      <td>0.0</td>\n",
       "    </tr>\n",
       "    <tr>\n",
       "      <th>4</th>\n",
       "      <td>0.0</td>\n",
       "      <td>0.0</td>\n",
       "      <td>0.0</td>\n",
       "      <td>0.0</td>\n",
       "      <td>0.0</td>\n",
       "      <td>0.0</td>\n",
       "      <td>0.0</td>\n",
       "      <td>0.0</td>\n",
       "      <td>0.0</td>\n",
       "      <td>0.0</td>\n",
       "      <td>0.0</td>\n",
       "      <td>0.0</td>\n",
       "    </tr>\n",
       "    <tr>\n",
       "      <th>...</th>\n",
       "      <td>...</td>\n",
       "      <td>...</td>\n",
       "      <td>...</td>\n",
       "      <td>...</td>\n",
       "      <td>...</td>\n",
       "      <td>...</td>\n",
       "      <td>...</td>\n",
       "      <td>...</td>\n",
       "      <td>...</td>\n",
       "      <td>...</td>\n",
       "      <td>...</td>\n",
       "      <td>...</td>\n",
       "    </tr>\n",
       "    <tr>\n",
       "      <th>46214</th>\n",
       "      <td>0.0</td>\n",
       "      <td>0.0</td>\n",
       "      <td>0.0</td>\n",
       "      <td>0.0</td>\n",
       "      <td>0.0</td>\n",
       "      <td>0.0</td>\n",
       "      <td>0.0</td>\n",
       "      <td>0.0</td>\n",
       "      <td>0.0</td>\n",
       "      <td>0.0</td>\n",
       "      <td>0.0</td>\n",
       "      <td>0.0</td>\n",
       "    </tr>\n",
       "    <tr>\n",
       "      <th>46215</th>\n",
       "      <td>0.0</td>\n",
       "      <td>0.0</td>\n",
       "      <td>0.0</td>\n",
       "      <td>0.0</td>\n",
       "      <td>0.0</td>\n",
       "      <td>0.0</td>\n",
       "      <td>0.0</td>\n",
       "      <td>0.0</td>\n",
       "      <td>0.0</td>\n",
       "      <td>0.0</td>\n",
       "      <td>0.0</td>\n",
       "      <td>0.0</td>\n",
       "    </tr>\n",
       "    <tr>\n",
       "      <th>46216</th>\n",
       "      <td>0.0</td>\n",
       "      <td>0.0</td>\n",
       "      <td>0.0</td>\n",
       "      <td>0.0</td>\n",
       "      <td>0.0</td>\n",
       "      <td>0.0</td>\n",
       "      <td>0.0</td>\n",
       "      <td>0.0</td>\n",
       "      <td>0.0</td>\n",
       "      <td>0.0</td>\n",
       "      <td>0.0</td>\n",
       "      <td>0.0</td>\n",
       "    </tr>\n",
       "    <tr>\n",
       "      <th>46217</th>\n",
       "      <td>0.0</td>\n",
       "      <td>0.0</td>\n",
       "      <td>0.0</td>\n",
       "      <td>0.0</td>\n",
       "      <td>0.0</td>\n",
       "      <td>0.0</td>\n",
       "      <td>0.0</td>\n",
       "      <td>0.0</td>\n",
       "      <td>0.0</td>\n",
       "      <td>0.0</td>\n",
       "      <td>0.0</td>\n",
       "      <td>0.0</td>\n",
       "    </tr>\n",
       "    <tr>\n",
       "      <th>46218</th>\n",
       "      <td>0.0</td>\n",
       "      <td>0.0</td>\n",
       "      <td>0.0</td>\n",
       "      <td>0.0</td>\n",
       "      <td>0.0</td>\n",
       "      <td>0.0</td>\n",
       "      <td>0.0</td>\n",
       "      <td>0.0</td>\n",
       "      <td>0.0</td>\n",
       "      <td>0.0</td>\n",
       "      <td>0.0</td>\n",
       "      <td>0.0</td>\n",
       "    </tr>\n",
       "  </tbody>\n",
       "</table>\n",
       "<p>46219 rows × 12 columns</p>\n",
       "</div>"
      ],
      "text/plain": [
       "       die  help  suicid  kill  live  kill  talk  harm  empti  depress  life  \\\n",
       "0      0.0   0.0     0.0   0.0   0.0   0.0   0.0   0.0    0.0      0.0   0.0   \n",
       "1      0.0   0.0     0.0   0.0   0.0   0.0   0.0   0.0    0.0      0.0   0.0   \n",
       "2      0.0   0.0     0.0   0.0   0.0   0.0   0.0   0.0    0.0      0.0   0.0   \n",
       "3      0.0   0.0     0.0   0.0   0.0   0.0   0.0   0.0    0.0      0.0   0.0   \n",
       "4      0.0   0.0     0.0   0.0   0.0   0.0   0.0   0.0    0.0      0.0   0.0   \n",
       "...    ...   ...     ...   ...   ...   ...   ...   ...    ...      ...   ...   \n",
       "46214  0.0   0.0     0.0   0.0   0.0   0.0   0.0   0.0    0.0      0.0   0.0   \n",
       "46215  0.0   0.0     0.0   0.0   0.0   0.0   0.0   0.0    0.0      0.0   0.0   \n",
       "46216  0.0   0.0     0.0   0.0   0.0   0.0   0.0   0.0    0.0      0.0   0.0   \n",
       "46217  0.0   0.0     0.0   0.0   0.0   0.0   0.0   0.0    0.0      0.0   0.0   \n",
       "46218  0.0   0.0     0.0   0.0   0.0   0.0   0.0   0.0    0.0      0.0   0.0   \n",
       "\n",
       "       mental  \n",
       "0         0.0  \n",
       "1         0.0  \n",
       "2         0.0  \n",
       "3         0.0  \n",
       "4         0.0  \n",
       "...       ...  \n",
       "46214     0.0  \n",
       "46215     0.0  \n",
       "46216     0.0  \n",
       "46217     0.0  \n",
       "46218     0.0  \n",
       "\n",
       "[46219 rows x 12 columns]"
      ]
     },
     "execution_count": 77,
     "metadata": {},
     "output_type": "execute_result"
    }
   ],
   "source": [
    "tf_df_clu8[['die','help','suicid','kill','live','kill','talk','harm','empti','depress','life','mental']]"
   ]
  },
  {
   "cell_type": "code",
   "execution_count": 78,
   "metadata": {},
   "outputs": [
    {
     "data": {
      "text/plain": [
       "(46219,)"
      ]
     },
     "execution_count": 78,
     "metadata": {},
     "output_type": "execute_result"
    }
   ],
   "source": [
    "cluster8.shape"
   ]
  },
  {
   "cell_type": "code",
   "execution_count": 79,
   "metadata": {},
   "outputs": [
    {
     "name": "stdout",
     "output_type": "stream",
     "text": [
      "Wall time: 34.8 s\n"
     ]
    }
   ],
   "source": [
    "from sklearn.cluster import KMeans\n",
    "k_means_result=[]\n",
    "K=10\n",
    "km = KMeans(n_clusters=K, random_state=0)\n",
    "%time km.fit(tf_df_clu8)\n",
    "k_means_result.append(km.inertia_)\n",
    "clusters_clu8 = km.labels_.tolist()"
   ]
  },
  {
   "cell_type": "code",
   "execution_count": 80,
   "metadata": {},
   "outputs": [],
   "source": [
    "emp_clu8=pd.DataFrame(final_data[final_data['cluster']==1])"
   ]
  },
  {
   "cell_type": "code",
   "execution_count": 81,
   "metadata": {},
   "outputs": [
    {
     "data": {
      "text/html": [
       "<div>\n",
       "<style scoped>\n",
       "    .dataframe tbody tr th:only-of-type {\n",
       "        vertical-align: middle;\n",
       "    }\n",
       "\n",
       "    .dataframe tbody tr th {\n",
       "        vertical-align: top;\n",
       "    }\n",
       "\n",
       "    .dataframe thead th {\n",
       "        text-align: right;\n",
       "    }\n",
       "</style>\n",
       "<table border=\"1\" class=\"dataframe\">\n",
       "  <thead>\n",
       "    <tr style=\"text-align: right;\">\n",
       "      <th></th>\n",
       "      <th>cluster</th>\n",
       "      <th>Words</th>\n",
       "      <th>Title</th>\n",
       "      <th>Body</th>\n",
       "      <th>Over_18</th>\n",
       "      <th>Subreddit</th>\n",
       "      <th>year</th>\n",
       "      <th>hour</th>\n",
       "      <th>Filter_data</th>\n",
       "      <th>Int_want_die</th>\n",
       "    </tr>\n",
       "  </thead>\n",
       "  <tbody>\n",
       "    <tr>\n",
       "      <th>12720</th>\n",
       "      <td>1</td>\n",
       "      <td>not, go, want, think, need, friend, anyon, tri...</td>\n",
       "      <td>I've started to stress-sleep again.</td>\n",
       "      <td>I used to do it before to escape the conscious...</td>\n",
       "      <td>0</td>\n",
       "      <td>0</td>\n",
       "      <td>2013</td>\n",
       "      <td>6</td>\n",
       "      <td>start stresssleep</td>\n",
       "      <td>0</td>\n",
       "    </tr>\n",
       "    <tr>\n",
       "      <th>12721</th>\n",
       "      <td>1</td>\n",
       "      <td>not, go, want, think, need, friend, anyon, tri...</td>\n",
       "      <td>I planned on going back to work an hour ago...</td>\n",
       "      <td>But I'm still in bed on my 'lunch break.' If a...</td>\n",
       "      <td>0</td>\n",
       "      <td>0</td>\n",
       "      <td>2016</td>\n",
       "      <td>18</td>\n",
       "      <td>plan go back work</td>\n",
       "      <td>0</td>\n",
       "    </tr>\n",
       "    <tr>\n",
       "      <th>12722</th>\n",
       "      <td>1</td>\n",
       "      <td>not, go, want, think, need, friend, anyon, tri...</td>\n",
       "      <td>The Holidays are the Absolute Worst.</td>\n",
       "      <td>I don't get how people are so fucking cheery t...</td>\n",
       "      <td>0</td>\n",
       "      <td>0</td>\n",
       "      <td>2016</td>\n",
       "      <td>18</td>\n",
       "      <td>holiday absolut worst</td>\n",
       "      <td>0</td>\n",
       "    </tr>\n",
       "    <tr>\n",
       "      <th>12723</th>\n",
       "      <td>1</td>\n",
       "      <td>not, go, want, think, need, friend, anyon, tri...</td>\n",
       "      <td>I am a foreigner in the USA. Can't go back \"ho...</td>\n",
       "      <td>I have observed how many homeless have to live...</td>\n",
       "      <td>0</td>\n",
       "      <td>1</td>\n",
       "      <td>2019</td>\n",
       "      <td>10</td>\n",
       "      <td>foreign usa not go back home homeless</td>\n",
       "      <td>0</td>\n",
       "    </tr>\n",
       "    <tr>\n",
       "      <th>12724</th>\n",
       "      <td>1</td>\n",
       "      <td>not, go, want, think, need, friend, anyon, tri...</td>\n",
       "      <td>I'm waiting for something</td>\n",
       "      <td>I'm in a somewhat better place now (this doesn...</td>\n",
       "      <td>0</td>\n",
       "      <td>0</td>\n",
       "      <td>2016</td>\n",
       "      <td>5</td>\n",
       "      <td>wait someth</td>\n",
       "      <td>0</td>\n",
       "    </tr>\n",
       "    <tr>\n",
       "      <th>...</th>\n",
       "      <td>...</td>\n",
       "      <td>...</td>\n",
       "      <td>...</td>\n",
       "      <td>...</td>\n",
       "      <td>...</td>\n",
       "      <td>...</td>\n",
       "      <td>...</td>\n",
       "      <td>...</td>\n",
       "      <td>...</td>\n",
       "      <td>...</td>\n",
       "    </tr>\n",
       "    <tr>\n",
       "      <th>58934</th>\n",
       "      <td>1</td>\n",
       "      <td>not, go, want, think, need, friend, anyon, tri...</td>\n",
       "      <td>I'm always angry. Always. And the blackouts ha...</td>\n",
       "      <td>First off, this is not a throwaway account; I ...</td>\n",
       "      <td>0</td>\n",
       "      <td>0</td>\n",
       "      <td>2011</td>\n",
       "      <td>6</td>\n",
       "      <td>alway angri alway blackout reach theyr scare</td>\n",
       "      <td>0</td>\n",
       "    </tr>\n",
       "    <tr>\n",
       "      <th>58935</th>\n",
       "      <td>1</td>\n",
       "      <td>not, go, want, think, need, friend, anyon, tri...</td>\n",
       "      <td>No one cares</td>\n",
       "      <td>No one cares No one cares No one cares No one ...</td>\n",
       "      <td>0</td>\n",
       "      <td>1</td>\n",
       "      <td>2019</td>\n",
       "      <td>18</td>\n",
       "      <td>care</td>\n",
       "      <td>0</td>\n",
       "    </tr>\n",
       "    <tr>\n",
       "      <th>58936</th>\n",
       "      <td>1</td>\n",
       "      <td>not, go, want, think, need, friend, anyon, tri...</td>\n",
       "      <td>Is it weird that the only thing that makes me ...</td>\n",
       "      <td>Honestly I've been dealing with depression for...</td>\n",
       "      <td>0</td>\n",
       "      <td>0</td>\n",
       "      <td>2014</td>\n",
       "      <td>17</td>\n",
       "      <td>weird thing make happi comput</td>\n",
       "      <td>0</td>\n",
       "    </tr>\n",
       "    <tr>\n",
       "      <th>58937</th>\n",
       "      <td>1</td>\n",
       "      <td>not, go, want, think, need, friend, anyon, tri...</td>\n",
       "      <td>Looking for some advice from you good people</td>\n",
       "      <td>Hi, everyone.\\n\\nI apologize right off the bat...</td>\n",
       "      <td>0</td>\n",
       "      <td>1</td>\n",
       "      <td>2015</td>\n",
       "      <td>20</td>\n",
       "      <td>look advic good peopl</td>\n",
       "      <td>0</td>\n",
       "    </tr>\n",
       "    <tr>\n",
       "      <th>58938</th>\n",
       "      <td>1</td>\n",
       "      <td>not, go, want, think, need, friend, anyon, tri...</td>\n",
       "      <td>I just need to tell somebody...</td>\n",
       "      <td>Hello all,\\n    I am in desperate need of gett...</td>\n",
       "      <td>0</td>\n",
       "      <td>0</td>\n",
       "      <td>2016</td>\n",
       "      <td>18</td>\n",
       "      <td>need tell somebodi</td>\n",
       "      <td>0</td>\n",
       "    </tr>\n",
       "  </tbody>\n",
       "</table>\n",
       "<p>46219 rows × 10 columns</p>\n",
       "</div>"
      ],
      "text/plain": [
       "       cluster                                              Words  \\\n",
       "12720        1  not, go, want, think, need, friend, anyon, tri...   \n",
       "12721        1  not, go, want, think, need, friend, anyon, tri...   \n",
       "12722        1  not, go, want, think, need, friend, anyon, tri...   \n",
       "12723        1  not, go, want, think, need, friend, anyon, tri...   \n",
       "12724        1  not, go, want, think, need, friend, anyon, tri...   \n",
       "...        ...                                                ...   \n",
       "58934        1  not, go, want, think, need, friend, anyon, tri...   \n",
       "58935        1  not, go, want, think, need, friend, anyon, tri...   \n",
       "58936        1  not, go, want, think, need, friend, anyon, tri...   \n",
       "58937        1  not, go, want, think, need, friend, anyon, tri...   \n",
       "58938        1  not, go, want, think, need, friend, anyon, tri...   \n",
       "\n",
       "                                                   Title  \\\n",
       "12720                I've started to stress-sleep again.   \n",
       "12721     I planned on going back to work an hour ago...   \n",
       "12722               The Holidays are the Absolute Worst.   \n",
       "12723  I am a foreigner in the USA. Can't go back \"ho...   \n",
       "12724                          I'm waiting for something   \n",
       "...                                                  ...   \n",
       "58934  I'm always angry. Always. And the blackouts ha...   \n",
       "58935                                       No one cares   \n",
       "58936  Is it weird that the only thing that makes me ...   \n",
       "58937       Looking for some advice from you good people   \n",
       "58938                    I just need to tell somebody...   \n",
       "\n",
       "                                                    Body  Over_18  Subreddit  \\\n",
       "12720  I used to do it before to escape the conscious...        0          0   \n",
       "12721  But I'm still in bed on my 'lunch break.' If a...        0          0   \n",
       "12722  I don't get how people are so fucking cheery t...        0          0   \n",
       "12723  I have observed how many homeless have to live...        0          1   \n",
       "12724  I'm in a somewhat better place now (this doesn...        0          0   \n",
       "...                                                  ...      ...        ...   \n",
       "58934  First off, this is not a throwaway account; I ...        0          0   \n",
       "58935  No one cares No one cares No one cares No one ...        0          1   \n",
       "58936  Honestly I've been dealing with depression for...        0          0   \n",
       "58937  Hi, everyone.\\n\\nI apologize right off the bat...        0          1   \n",
       "58938  Hello all,\\n    I am in desperate need of gett...        0          0   \n",
       "\n",
       "       year  hour                                   Filter_data  Int_want_die  \n",
       "12720  2013     6                             start stresssleep             0  \n",
       "12721  2016    18                             plan go back work             0  \n",
       "12722  2016    18                         holiday absolut worst             0  \n",
       "12723  2019    10         foreign usa not go back home homeless             0  \n",
       "12724  2016     5                                   wait someth             0  \n",
       "...     ...   ...                                           ...           ...  \n",
       "58934  2011     6  alway angri alway blackout reach theyr scare             0  \n",
       "58935  2019    18                                          care             0  \n",
       "58936  2014    17                 weird thing make happi comput             0  \n",
       "58937  2015    20                         look advic good peopl             0  \n",
       "58938  2016    18                            need tell somebodi             0  \n",
       "\n",
       "[46219 rows x 10 columns]"
      ]
     },
     "execution_count": 81,
     "metadata": {},
     "output_type": "execute_result"
    }
   ],
   "source": [
    "emp_clu8"
   ]
  },
  {
   "cell_type": "code",
   "execution_count": 82,
   "metadata": {},
   "outputs": [],
   "source": [
    "emp_clu8['cluster_clu8']=clusters_clu8"
   ]
  },
  {
   "cell_type": "code",
   "execution_count": 83,
   "metadata": {},
   "outputs": [
    {
     "data": {
      "text/plain": [
       "array([2, 7, 1, 8, 4, 6, 5, 0, 9, 3], dtype=int64)"
      ]
     },
     "execution_count": 83,
     "metadata": {},
     "output_type": "execute_result"
    }
   ],
   "source": [
    "emp_clu8['cluster_clu8'].unique()"
   ]
  },
  {
   "cell_type": "code",
   "execution_count": 84,
   "metadata": {},
   "outputs": [],
   "source": [
    "comm_word=[]\n",
    "for ix in range(K):\n",
    "    temp = [i for i in nltk.FreqDist(nltk.word_tokenize(' '.join(emp_clu8[emp_clu8['cluster_clu8']==ix]['Filter_data'])))]\n",
    "    if ix==1:\n",
    "        comm_word=temp.copy()\n",
    "    else:\n",
    "        comm_word = set(comm_word).intersection(temp)"
   ]
  },
  {
   "cell_type": "code",
   "execution_count": 85,
   "metadata": {},
   "outputs": [],
   "source": [
    "comm_word=[]"
   ]
  },
  {
   "cell_type": "code",
   "execution_count": 86,
   "metadata": {},
   "outputs": [],
   "source": [
    "dic={}\n",
    "for i in emp_clu8.cluster_clu8.unique():\n",
    "    dic[i]=' '.join([se for sent in nltk.sent_tokenize(' '.join(emp_clu8[emp_clu8['cluster_clu8']==i]['Filter_data'])) for se in nltk.word_tokenize(sent) if se not in comm_word])"
   ]
  },
  {
   "cell_type": "code",
   "execution_count": 87,
   "metadata": {},
   "outputs": [
    {
     "name": "stdout",
     "output_type": "stream",
     "text": [
      "                                        "
     ]
    }
   ],
   "source": [
    "cluster_dict={}\n",
    "for i in emp_clu8.cluster_clu8.unique():\n",
    "    #print(' ')\n",
    "    #print('Cluster',i)\n",
    "    print('    ',end='')\n",
    "    cluster_dict[i]=', '.join([i[0] for i in nltk.FreqDist(dic[i].split(' ')).most_common()[:10]])"
   ]
  },
  {
   "cell_type": "code",
   "execution_count": 88,
   "metadata": {},
   "outputs": [
    {
     "data": {
      "text/plain": [
       "{2: 'not, want, think, need, friend, peopl, tri, realli, thought, make',\n",
       " 7: 'go, think, not, want, readi, back, away, final, what, hospit',\n",
       " 1: 'keep, go, thing, aliv, tri, not, reason, find, back, want',\n",
       " 8: 'there, not, hope, someth, anymor, think, left, reason, world, know',\n",
       " 4: 'long, not, post, sorri, stori, go, need, want, term, vent',\n",
       " 6: 'lost, everyth, friend, job, hope, best, love, last, complet, motiv',\n",
       " 5: 'mother, pass, away, not, thought, go, famili, year, father, anoth',\n",
       " 0: 'anyon, els, experi, not, want, tri, relat, go, think, thing',\n",
       " 9: 'tire, fight, everyth, tri, sick, realli, exist, aliv, want, lone',\n",
       " 3: 'made, mistak, decis, friend, not, mind, final, think, wors, post'}"
      ]
     },
     "execution_count": 88,
     "metadata": {},
     "output_type": "execute_result"
    }
   ],
   "source": [
    "cluster_dict "
   ]
  },
  {
   "cell_type": "code",
   "execution_count": 89,
   "metadata": {},
   "outputs": [],
   "source": [
    "temp = pd.DataFrame(cluster_dict,index=[0]).T.reset_index()"
   ]
  },
  {
   "cell_type": "code",
   "execution_count": 90,
   "metadata": {},
   "outputs": [],
   "source": [
    "temp.columns=['cluster','Words_for_cluster']"
   ]
  },
  {
   "cell_type": "code",
   "execution_count": 91,
   "metadata": {},
   "outputs": [],
   "source": [
    "tempx=temp.merge(emp_clu8,on='cluster',how='inner')"
   ]
  },
  {
   "cell_type": "code",
   "execution_count": 92,
   "metadata": {},
   "outputs": [],
   "source": [
    "without8=final_data[final_data.cluster!=1]"
   ]
  },
  {
   "cell_type": "code",
   "execution_count": 93,
   "metadata": {},
   "outputs": [
    {
     "data": {
      "text/plain": [
       "Index(['cluster', 'Words', 'Title', 'Body', 'Over_18', 'Subreddit', 'year',\n",
       "       'hour', 'Filter_data', 'Int_want_die'],\n",
       "      dtype='object')"
      ]
     },
     "execution_count": 93,
     "metadata": {},
     "output_type": "execute_result"
    }
   ],
   "source": [
    "without8.columns"
   ]
  },
  {
   "cell_type": "code",
   "execution_count": 94,
   "metadata": {},
   "outputs": [],
   "source": [
    "tempx['cluster']=tempx['cluster'].astype(str)+tempx['cluster_clu8'].astype(str)"
   ]
  },
  {
   "cell_type": "code",
   "execution_count": 95,
   "metadata": {},
   "outputs": [],
   "source": [
    "tempx.drop('cluster_clu8',axis=1,inplace=True)"
   ]
  },
  {
   "cell_type": "code",
   "execution_count": 96,
   "metadata": {},
   "outputs": [
    {
     "data": {
      "text/plain": [
       "Index(['cluster', 'Words_for_cluster', 'Words', 'Title', 'Body', 'Over_18',\n",
       "       'Subreddit', 'year', 'hour', 'Filter_data', 'Int_want_die'],\n",
       "      dtype='object')"
      ]
     },
     "execution_count": 96,
     "metadata": {},
     "output_type": "execute_result"
    }
   ],
   "source": [
    "tempx.columns"
   ]
  },
  {
   "cell_type": "code",
   "execution_count": 97,
   "metadata": {},
   "outputs": [],
   "source": [
    "final_data = pd.concat([tempx,without8])"
   ]
  },
  {
   "cell_type": "code",
   "execution_count": 98,
   "metadata": {},
   "outputs": [],
   "source": [
    "def check(x):\n",
    "    va1=x['Words_for_cluster']\n",
    "    va2=x['Words']\n",
    "    if not isinstance(va1,float):\n",
    "        return va1+va2\n",
    "    return va2\n",
    "final_data['final_cluster_words']=final_data.apply(lambda x : check(x),axis=1)"
   ]
  },
  {
   "cell_type": "code",
   "execution_count": 99,
   "metadata": {},
   "outputs": [
    {
     "data": {
      "text/plain": [
       "12    0.40552\n",
       "9     0.06808\n",
       "14    0.05377\n",
       "3     0.05193\n",
       "0     0.04569\n",
       "15    0.03725\n",
       "11    0.03590\n",
       "12    0.03112\n",
       "10    0.02932\n",
       "18    0.02789\n",
       "4     0.02535\n",
       "16    0.02077\n",
       "6     0.01909\n",
       "8     0.01692\n",
       "5     0.01664\n",
       "17    0.01534\n",
       "13    0.01343\n",
       "17    0.01336\n",
       "2     0.01160\n",
       "7     0.01054\n",
       "10    0.01031\n",
       "19    0.00916\n",
       "19    0.00798\n",
       "16    0.00589\n",
       "11    0.00517\n",
       "14    0.00501\n",
       "13    0.00344\n",
       "15    0.00179\n",
       "18    0.00174\n",
       "Name: cluster, dtype: float64"
      ]
     },
     "execution_count": 99,
     "metadata": {},
     "output_type": "execute_result"
    }
   ],
   "source": [
    "final_data['cluster'].value_counts(normalize=True)"
   ]
  },
  {
   "cell_type": "code",
   "execution_count": 100,
   "metadata": {},
   "outputs": [],
   "source": [
    "final_Inc=['depress','die','help','kill','suicid','life','happi','mental','not']"
   ]
  },
  {
   "cell_type": "code",
   "execution_count": 101,
   "metadata": {},
   "outputs": [],
   "source": [
    "final_data.reset_index(drop=True,inplace=True)"
   ]
  },
  {
   "cell_type": "code",
   "execution_count": 102,
   "metadata": {},
   "outputs": [
    {
     "data": {
      "application/vnd.jupyter.widget-view+json": {
       "model_id": "20eaf880b54c408386d516a7cbf03997",
       "version_major": 2,
       "version_minor": 0
      },
      "text/plain": [
       "HBox(children=(HTML(value=''), FloatProgress(value=0.0, max=100000.0), HTML(value='')))"
      ]
     },
     "metadata": {},
     "output_type": "display_data"
    },
    {
     "name": "stdout",
     "output_type": "stream",
     "text": [
      "\n"
     ]
    }
   ],
   "source": [
    "def get_inc_list(x):\n",
    "    word=nltk.word_tokenize(x)\n",
    "    curr={}\n",
    "    if len(x)<1:\n",
    "        for j in final_Inc:\n",
    "            curr[j]=False\n",
    "            curr[j+'_index']=-1\n",
    "        return curr\n",
    "    for j in final_Inc:\n",
    "        curr[j]=(j in word)\n",
    "        if curr.get(j):\n",
    "            curr[j+'_index']=word.index(j)+1\n",
    "        else:\n",
    "            curr[j+'_index']=-1\n",
    "    return curr\n",
    "            \n",
    "Inc_list_df=pd.DataFrame(final_data['Filter_data'].progress_apply(lambda x:get_inc_list(x)).to_dict()).T"
   ]
  },
  {
   "cell_type": "code",
   "execution_count": 103,
   "metadata": {},
   "outputs": [],
   "source": [
    "df_final_dis=pd.concat([final_data[['Filter_data','cluster','final_cluster_words']],Inc_list_df],axis=1)"
   ]
  },
  {
   "cell_type": "code",
   "execution_count": 104,
   "metadata": {},
   "outputs": [
    {
     "data": {
      "text/plain": [
       "depress          0.08012\n",
       "depress_index   -0.66545\n",
       "die              0.03254\n",
       "die_index       -0.85208\n",
       "help             0.05723\n",
       "help_index      -0.74583\n",
       "kill             0.04083\n",
       "kill_index      -0.82080\n",
       "suicid           0.05559\n",
       "suicid_index    -0.76375\n",
       "life             0.05649\n",
       "life_index      -0.75259\n",
       "happi            0.01261\n",
       "happi_index     -0.94252\n",
       "mental           0.00585\n",
       "mental_index    -0.97306\n",
       "not              0.20158\n",
       "dtype: float64"
      ]
     },
     "execution_count": 104,
     "metadata": {},
     "output_type": "execute_result"
    }
   ],
   "source": [
    "df_final_dis[df_final_dis.columns[3:-1]].sum()/len(df_final_dis)"
   ]
  },
  {
   "cell_type": "code",
   "execution_count": null,
   "metadata": {},
   "outputs": [],
   "source": []
  },
  {
   "cell_type": "code",
   "execution_count": 105,
   "metadata": {},
   "outputs": [],
   "source": [
    "import scipy.spatial.distance as dist"
   ]
  },
  {
   "cell_type": "code",
   "execution_count": 106,
   "metadata": {},
   "outputs": [
    {
     "data": {
      "text/plain": [
       "['depress', 'die', 'help', 'kill', 'suicid', 'life', 'happi', 'mental', 'not']"
      ]
     },
     "execution_count": 106,
     "metadata": {},
     "output_type": "execute_result"
    }
   ],
   "source": [
    "final_Inc"
   ]
  },
  {
   "cell_type": "code",
   "execution_count": 107,
   "metadata": {},
   "outputs": [
    {
     "data": {
      "text/html": [
       "<div>\n",
       "<style scoped>\n",
       "    .dataframe tbody tr th:only-of-type {\n",
       "        vertical-align: middle;\n",
       "    }\n",
       "\n",
       "    .dataframe tbody tr th {\n",
       "        vertical-align: top;\n",
       "    }\n",
       "\n",
       "    .dataframe thead th {\n",
       "        text-align: right;\n",
       "    }\n",
       "</style>\n",
       "<table border=\"1\" class=\"dataframe\">\n",
       "  <thead>\n",
       "    <tr style=\"text-align: right;\">\n",
       "      <th></th>\n",
       "      <th>Filter_data</th>\n",
       "      <th>cluster</th>\n",
       "      <th>final_cluster_words</th>\n",
       "      <th>depress</th>\n",
       "      <th>depress_index</th>\n",
       "      <th>die</th>\n",
       "      <th>die_index</th>\n",
       "      <th>help</th>\n",
       "      <th>help_index</th>\n",
       "      <th>kill</th>\n",
       "      <th>...</th>\n",
       "      <th>suicid</th>\n",
       "      <th>suicid_index</th>\n",
       "      <th>life</th>\n",
       "      <th>life_index</th>\n",
       "      <th>happi</th>\n",
       "      <th>happi_index</th>\n",
       "      <th>mental</th>\n",
       "      <th>mental_index</th>\n",
       "      <th>not</th>\n",
       "      <th>not_index</th>\n",
       "    </tr>\n",
       "  </thead>\n",
       "  <tbody>\n",
       "    <tr>\n",
       "      <th>0</th>\n",
       "      <td>start stresssleep</td>\n",
       "      <td>12</td>\n",
       "      <td>keep, go, thing, aliv, tri, not, reason, find,...</td>\n",
       "      <td>False</td>\n",
       "      <td>-1</td>\n",
       "      <td>False</td>\n",
       "      <td>-1</td>\n",
       "      <td>False</td>\n",
       "      <td>-1</td>\n",
       "      <td>False</td>\n",
       "      <td>...</td>\n",
       "      <td>False</td>\n",
       "      <td>-1</td>\n",
       "      <td>False</td>\n",
       "      <td>-1</td>\n",
       "      <td>False</td>\n",
       "      <td>-1</td>\n",
       "      <td>False</td>\n",
       "      <td>-1</td>\n",
       "      <td>False</td>\n",
       "      <td>-1</td>\n",
       "    </tr>\n",
       "    <tr>\n",
       "      <th>1</th>\n",
       "      <td>plan go back work</td>\n",
       "      <td>17</td>\n",
       "      <td>keep, go, thing, aliv, tri, not, reason, find,...</td>\n",
       "      <td>False</td>\n",
       "      <td>-1</td>\n",
       "      <td>False</td>\n",
       "      <td>-1</td>\n",
       "      <td>False</td>\n",
       "      <td>-1</td>\n",
       "      <td>False</td>\n",
       "      <td>...</td>\n",
       "      <td>False</td>\n",
       "      <td>-1</td>\n",
       "      <td>False</td>\n",
       "      <td>-1</td>\n",
       "      <td>False</td>\n",
       "      <td>-1</td>\n",
       "      <td>False</td>\n",
       "      <td>-1</td>\n",
       "      <td>False</td>\n",
       "      <td>-1</td>\n",
       "    </tr>\n",
       "    <tr>\n",
       "      <th>2</th>\n",
       "      <td>holiday absolut worst</td>\n",
       "      <td>12</td>\n",
       "      <td>keep, go, thing, aliv, tri, not, reason, find,...</td>\n",
       "      <td>False</td>\n",
       "      <td>-1</td>\n",
       "      <td>False</td>\n",
       "      <td>-1</td>\n",
       "      <td>False</td>\n",
       "      <td>-1</td>\n",
       "      <td>False</td>\n",
       "      <td>...</td>\n",
       "      <td>False</td>\n",
       "      <td>-1</td>\n",
       "      <td>False</td>\n",
       "      <td>-1</td>\n",
       "      <td>False</td>\n",
       "      <td>-1</td>\n",
       "      <td>False</td>\n",
       "      <td>-1</td>\n",
       "      <td>False</td>\n",
       "      <td>-1</td>\n",
       "    </tr>\n",
       "    <tr>\n",
       "      <th>3</th>\n",
       "      <td>foreign usa not go back home homeless</td>\n",
       "      <td>17</td>\n",
       "      <td>keep, go, thing, aliv, tri, not, reason, find,...</td>\n",
       "      <td>False</td>\n",
       "      <td>-1</td>\n",
       "      <td>False</td>\n",
       "      <td>-1</td>\n",
       "      <td>False</td>\n",
       "      <td>-1</td>\n",
       "      <td>False</td>\n",
       "      <td>...</td>\n",
       "      <td>False</td>\n",
       "      <td>-1</td>\n",
       "      <td>False</td>\n",
       "      <td>-1</td>\n",
       "      <td>False</td>\n",
       "      <td>-1</td>\n",
       "      <td>False</td>\n",
       "      <td>-1</td>\n",
       "      <td>True</td>\n",
       "      <td>3</td>\n",
       "    </tr>\n",
       "    <tr>\n",
       "      <th>4</th>\n",
       "      <td>wait someth</td>\n",
       "      <td>12</td>\n",
       "      <td>keep, go, thing, aliv, tri, not, reason, find,...</td>\n",
       "      <td>False</td>\n",
       "      <td>-1</td>\n",
       "      <td>False</td>\n",
       "      <td>-1</td>\n",
       "      <td>False</td>\n",
       "      <td>-1</td>\n",
       "      <td>False</td>\n",
       "      <td>...</td>\n",
       "      <td>False</td>\n",
       "      <td>-1</td>\n",
       "      <td>False</td>\n",
       "      <td>-1</td>\n",
       "      <td>False</td>\n",
       "      <td>-1</td>\n",
       "      <td>False</td>\n",
       "      <td>-1</td>\n",
       "      <td>False</td>\n",
       "      <td>-1</td>\n",
       "    </tr>\n",
       "    <tr>\n",
       "      <th>...</th>\n",
       "      <td>...</td>\n",
       "      <td>...</td>\n",
       "      <td>...</td>\n",
       "      <td>...</td>\n",
       "      <td>...</td>\n",
       "      <td>...</td>\n",
       "      <td>...</td>\n",
       "      <td>...</td>\n",
       "      <td>...</td>\n",
       "      <td>...</td>\n",
       "      <td>...</td>\n",
       "      <td>...</td>\n",
       "      <td>...</td>\n",
       "      <td>...</td>\n",
       "      <td>...</td>\n",
       "      <td>...</td>\n",
       "      <td>...</td>\n",
       "      <td>...</td>\n",
       "      <td>...</td>\n",
       "      <td>...</td>\n",
       "      <td>...</td>\n",
       "    </tr>\n",
       "    <tr>\n",
       "      <th>99995</th>\n",
       "      <td>not sure anymor</td>\n",
       "      <td>19</td>\n",
       "      <td>sure, not, depress, feel, go, realli, help, an...</td>\n",
       "      <td>False</td>\n",
       "      <td>-1</td>\n",
       "      <td>False</td>\n",
       "      <td>-1</td>\n",
       "      <td>False</td>\n",
       "      <td>-1</td>\n",
       "      <td>False</td>\n",
       "      <td>...</td>\n",
       "      <td>False</td>\n",
       "      <td>-1</td>\n",
       "      <td>False</td>\n",
       "      <td>-1</td>\n",
       "      <td>False</td>\n",
       "      <td>-1</td>\n",
       "      <td>False</td>\n",
       "      <td>-1</td>\n",
       "      <td>True</td>\n",
       "      <td>1</td>\n",
       "    </tr>\n",
       "    <tr>\n",
       "      <th>99996</th>\n",
       "      <td>not sure depress</td>\n",
       "      <td>19</td>\n",
       "      <td>sure, not, depress, feel, go, realli, help, an...</td>\n",
       "      <td>True</td>\n",
       "      <td>3</td>\n",
       "      <td>False</td>\n",
       "      <td>-1</td>\n",
       "      <td>False</td>\n",
       "      <td>-1</td>\n",
       "      <td>False</td>\n",
       "      <td>...</td>\n",
       "      <td>False</td>\n",
       "      <td>-1</td>\n",
       "      <td>False</td>\n",
       "      <td>-1</td>\n",
       "      <td>False</td>\n",
       "      <td>-1</td>\n",
       "      <td>False</td>\n",
       "      <td>-1</td>\n",
       "      <td>True</td>\n",
       "      <td>1</td>\n",
       "    </tr>\n",
       "    <tr>\n",
       "      <th>99997</th>\n",
       "      <td>not sure</td>\n",
       "      <td>19</td>\n",
       "      <td>sure, not, depress, feel, go, realli, help, an...</td>\n",
       "      <td>False</td>\n",
       "      <td>-1</td>\n",
       "      <td>False</td>\n",
       "      <td>-1</td>\n",
       "      <td>False</td>\n",
       "      <td>-1</td>\n",
       "      <td>False</td>\n",
       "      <td>...</td>\n",
       "      <td>False</td>\n",
       "      <td>-1</td>\n",
       "      <td>False</td>\n",
       "      <td>-1</td>\n",
       "      <td>False</td>\n",
       "      <td>-1</td>\n",
       "      <td>False</td>\n",
       "      <td>-1</td>\n",
       "      <td>True</td>\n",
       "      <td>1</td>\n",
       "    </tr>\n",
       "    <tr>\n",
       "      <th>99998</th>\n",
       "      <td>not sure go</td>\n",
       "      <td>19</td>\n",
       "      <td>sure, not, depress, feel, go, realli, help, an...</td>\n",
       "      <td>False</td>\n",
       "      <td>-1</td>\n",
       "      <td>False</td>\n",
       "      <td>-1</td>\n",
       "      <td>False</td>\n",
       "      <td>-1</td>\n",
       "      <td>False</td>\n",
       "      <td>...</td>\n",
       "      <td>False</td>\n",
       "      <td>-1</td>\n",
       "      <td>False</td>\n",
       "      <td>-1</td>\n",
       "      <td>False</td>\n",
       "      <td>-1</td>\n",
       "      <td>False</td>\n",
       "      <td>-1</td>\n",
       "      <td>True</td>\n",
       "      <td>1</td>\n",
       "    </tr>\n",
       "    <tr>\n",
       "      <th>99999</th>\n",
       "      <td>lost mani time not sure want stick hope crush</td>\n",
       "      <td>19</td>\n",
       "      <td>sure, not, depress, feel, go, realli, help, an...</td>\n",
       "      <td>False</td>\n",
       "      <td>-1</td>\n",
       "      <td>False</td>\n",
       "      <td>-1</td>\n",
       "      <td>False</td>\n",
       "      <td>-1</td>\n",
       "      <td>False</td>\n",
       "      <td>...</td>\n",
       "      <td>False</td>\n",
       "      <td>-1</td>\n",
       "      <td>False</td>\n",
       "      <td>-1</td>\n",
       "      <td>False</td>\n",
       "      <td>-1</td>\n",
       "      <td>False</td>\n",
       "      <td>-1</td>\n",
       "      <td>True</td>\n",
       "      <td>4</td>\n",
       "    </tr>\n",
       "  </tbody>\n",
       "</table>\n",
       "<p>100000 rows × 21 columns</p>\n",
       "</div>"
      ],
      "text/plain": [
       "                                         Filter_data cluster  \\\n",
       "0                                  start stresssleep      12   \n",
       "1                                  plan go back work      17   \n",
       "2                              holiday absolut worst      12   \n",
       "3              foreign usa not go back home homeless      17   \n",
       "4                                        wait someth      12   \n",
       "...                                              ...     ...   \n",
       "99995                                not sure anymor      19   \n",
       "99996                               not sure depress      19   \n",
       "99997                                       not sure      19   \n",
       "99998                                    not sure go      19   \n",
       "99999  lost mani time not sure want stick hope crush      19   \n",
       "\n",
       "                                     final_cluster_words depress  \\\n",
       "0      keep, go, thing, aliv, tri, not, reason, find,...   False   \n",
       "1      keep, go, thing, aliv, tri, not, reason, find,...   False   \n",
       "2      keep, go, thing, aliv, tri, not, reason, find,...   False   \n",
       "3      keep, go, thing, aliv, tri, not, reason, find,...   False   \n",
       "4      keep, go, thing, aliv, tri, not, reason, find,...   False   \n",
       "...                                                  ...     ...   \n",
       "99995  sure, not, depress, feel, go, realli, help, an...   False   \n",
       "99996  sure, not, depress, feel, go, realli, help, an...    True   \n",
       "99997  sure, not, depress, feel, go, realli, help, an...   False   \n",
       "99998  sure, not, depress, feel, go, realli, help, an...   False   \n",
       "99999  sure, not, depress, feel, go, realli, help, an...   False   \n",
       "\n",
       "      depress_index    die die_index   help help_index   kill  ... suicid  \\\n",
       "0                -1  False        -1  False         -1  False  ...  False   \n",
       "1                -1  False        -1  False         -1  False  ...  False   \n",
       "2                -1  False        -1  False         -1  False  ...  False   \n",
       "3                -1  False        -1  False         -1  False  ...  False   \n",
       "4                -1  False        -1  False         -1  False  ...  False   \n",
       "...             ...    ...       ...    ...        ...    ...  ...    ...   \n",
       "99995            -1  False        -1  False         -1  False  ...  False   \n",
       "99996             3  False        -1  False         -1  False  ...  False   \n",
       "99997            -1  False        -1  False         -1  False  ...  False   \n",
       "99998            -1  False        -1  False         -1  False  ...  False   \n",
       "99999            -1  False        -1  False         -1  False  ...  False   \n",
       "\n",
       "      suicid_index   life life_index  happi happi_index mental mental_index  \\\n",
       "0               -1  False         -1  False          -1  False           -1   \n",
       "1               -1  False         -1  False          -1  False           -1   \n",
       "2               -1  False         -1  False          -1  False           -1   \n",
       "3               -1  False         -1  False          -1  False           -1   \n",
       "4               -1  False         -1  False          -1  False           -1   \n",
       "...            ...    ...        ...    ...         ...    ...          ...   \n",
       "99995           -1  False         -1  False          -1  False           -1   \n",
       "99996           -1  False         -1  False          -1  False           -1   \n",
       "99997           -1  False         -1  False          -1  False           -1   \n",
       "99998           -1  False         -1  False          -1  False           -1   \n",
       "99999           -1  False         -1  False          -1  False           -1   \n",
       "\n",
       "         not not_index  \n",
       "0      False        -1  \n",
       "1      False        -1  \n",
       "2      False        -1  \n",
       "3       True         3  \n",
       "4      False        -1  \n",
       "...      ...       ...  \n",
       "99995   True         1  \n",
       "99996   True         1  \n",
       "99997   True         1  \n",
       "99998   True         1  \n",
       "99999   True         4  \n",
       "\n",
       "[100000 rows x 21 columns]"
      ]
     },
     "execution_count": 107,
     "metadata": {},
     "output_type": "execute_result"
    }
   ],
   "source": [
    "df_final_dis"
   ]
  },
  {
   "cell_type": "code",
   "execution_count": 108,
   "metadata": {},
   "outputs": [
    {
     "name": "stdout",
     "output_type": "stream",
     "text": [
      "plan go back work\n",
      "wait someth\n"
     ]
    }
   ],
   "source": [
    "print(df_final_dis.loc[1]['Filter_data'])\n",
    "print(df_final_dis.loc[4]['Filter_data'])"
   ]
  },
  {
   "cell_type": "code",
   "execution_count": 109,
   "metadata": {},
   "outputs": [
    {
     "data": {
      "text/plain": [
       "0.2928932188134524"
      ]
     },
     "execution_count": 109,
     "metadata": {},
     "output_type": "execute_result"
    }
   ],
   "source": [
    "dist.cosine(df_final_dis[df_final_dis.columns[3:-1]].loc[0].astype(int).values,df_final_dis[df_final_dis.columns[3:-1]].loc[5].astype(int).values)"
   ]
  },
  {
   "cell_type": "code",
   "execution_count": 110,
   "metadata": {},
   "outputs": [
    {
     "data": {
      "text/html": [
       "<div>\n",
       "<style scoped>\n",
       "    .dataframe tbody tr th:only-of-type {\n",
       "        vertical-align: middle;\n",
       "    }\n",
       "\n",
       "    .dataframe tbody tr th {\n",
       "        vertical-align: top;\n",
       "    }\n",
       "\n",
       "    .dataframe thead th {\n",
       "        text-align: right;\n",
       "    }\n",
       "</style>\n",
       "<table border=\"1\" class=\"dataframe\">\n",
       "  <thead>\n",
       "    <tr style=\"text-align: right;\">\n",
       "      <th></th>\n",
       "      <th>Filter_data</th>\n",
       "      <th>cluster</th>\n",
       "      <th>final_cluster_words</th>\n",
       "      <th>depress</th>\n",
       "      <th>depress_index</th>\n",
       "      <th>die</th>\n",
       "      <th>die_index</th>\n",
       "      <th>help</th>\n",
       "      <th>help_index</th>\n",
       "      <th>kill</th>\n",
       "      <th>...</th>\n",
       "      <th>suicid</th>\n",
       "      <th>suicid_index</th>\n",
       "      <th>life</th>\n",
       "      <th>life_index</th>\n",
       "      <th>happi</th>\n",
       "      <th>happi_index</th>\n",
       "      <th>mental</th>\n",
       "      <th>mental_index</th>\n",
       "      <th>not</th>\n",
       "      <th>not_index</th>\n",
       "    </tr>\n",
       "  </thead>\n",
       "  <tbody>\n",
       "    <tr>\n",
       "      <th>66444</th>\n",
       "      <td>suicid year engag bright physic career ahead a...</td>\n",
       "      <td>4</td>\n",
       "      <td>die, want, not, go, think, feel, realli, live,...</td>\n",
       "      <td>False</td>\n",
       "      <td>-1</td>\n",
       "      <td>True</td>\n",
       "      <td>17</td>\n",
       "      <td>False</td>\n",
       "      <td>-1</td>\n",
       "      <td>True</td>\n",
       "      <td>...</td>\n",
       "      <td>True</td>\n",
       "      <td>1</td>\n",
       "      <td>False</td>\n",
       "      <td>-1</td>\n",
       "      <td>True</td>\n",
       "      <td>15</td>\n",
       "      <td>False</td>\n",
       "      <td>-1</td>\n",
       "      <td>True</td>\n",
       "      <td>13</td>\n",
       "    </tr>\n",
       "  </tbody>\n",
       "</table>\n",
       "<p>1 rows × 21 columns</p>\n",
       "</div>"
      ],
      "text/plain": [
       "                                             Filter_data cluster  \\\n",
       "66444  suicid year engag bright physic career ahead a...       4   \n",
       "\n",
       "                                     final_cluster_words depress  \\\n",
       "66444  die, want, not, go, think, feel, realli, live,...   False   \n",
       "\n",
       "      depress_index   die die_index   help help_index  kill  ... suicid  \\\n",
       "66444            -1  True        17  False         -1  True  ...   True   \n",
       "\n",
       "      suicid_index   life life_index happi happi_index mental mental_index  \\\n",
       "66444            1  False         -1  True          15  False           -1   \n",
       "\n",
       "        not not_index  \n",
       "66444  True        13  \n",
       "\n",
       "[1 rows x 21 columns]"
      ]
     },
     "execution_count": 110,
     "metadata": {},
     "output_type": "execute_result"
    }
   ],
   "source": [
    "df_final_dis[df_final_dis[final_Inc].sum(axis=1)==5]"
   ]
  },
  {
   "cell_type": "code",
   "execution_count": 111,
   "metadata": {},
   "outputs": [
    {
     "data": {
      "application/vnd.jupyter.widget-view+json": {
       "model_id": "1dbb35959e3945999ed24a42d5ecf0b6",
       "version_major": 2,
       "version_minor": 0
      },
      "text/plain": [
       "HBox(children=(HTML(value=''), FloatProgress(value=0.0, max=100000.0), HTML(value='')))"
      ]
     },
     "metadata": {},
     "output_type": "display_data"
    },
    {
     "name": "stdout",
     "output_type": "stream",
     "text": [
      "\n"
     ]
    }
   ],
   "source": [
    "def check_dis(x):\n",
    "    li=[]\n",
    "    for i in final_Inc[:-1]:\n",
    "        if x[i] and x['not']:\n",
    "            li.extend([i,x['not_index']-x[i+'_index']])\n",
    "#         elif x['not']:\n",
    "#             li.extend(['not',x['not_index']])\n",
    "    return li if li else None\n",
    "df_final_dis['distance']=df_final_dis.progress_apply(lambda x:check_dis(x),axis=1)"
   ]
  },
  {
   "cell_type": "code",
   "execution_count": 114,
   "metadata": {},
   "outputs": [
    {
     "data": {
      "text/html": [
       "<div>\n",
       "<style scoped>\n",
       "    .dataframe tbody tr th:only-of-type {\n",
       "        vertical-align: middle;\n",
       "    }\n",
       "\n",
       "    .dataframe tbody tr th {\n",
       "        vertical-align: top;\n",
       "    }\n",
       "\n",
       "    .dataframe thead th {\n",
       "        text-align: right;\n",
       "    }\n",
       "</style>\n",
       "<table border=\"1\" class=\"dataframe\">\n",
       "  <thead>\n",
       "    <tr style=\"text-align: right;\">\n",
       "      <th></th>\n",
       "      <th>Filter_data</th>\n",
       "      <th>cluster</th>\n",
       "      <th>final_cluster_words</th>\n",
       "      <th>depress</th>\n",
       "      <th>die</th>\n",
       "      <th>help</th>\n",
       "      <th>kill</th>\n",
       "      <th>suicid</th>\n",
       "      <th>life</th>\n",
       "      <th>happi</th>\n",
       "      <th>mental</th>\n",
       "      <th>not</th>\n",
       "      <th>distance</th>\n",
       "    </tr>\n",
       "  </thead>\n",
       "  <tbody>\n",
       "    <tr>\n",
       "      <th>37</th>\n",
       "      <td>there not hold back form die arent dead yet</td>\n",
       "      <td>18</td>\n",
       "      <td>keep, go, thing, aliv, tri, not, reason, find,...</td>\n",
       "      <td>False</td>\n",
       "      <td>True</td>\n",
       "      <td>False</td>\n",
       "      <td>False</td>\n",
       "      <td>False</td>\n",
       "      <td>False</td>\n",
       "      <td>False</td>\n",
       "      <td>False</td>\n",
       "      <td>True</td>\n",
       "      <td>[die, -4]</td>\n",
       "    </tr>\n",
       "    <tr>\n",
       "      <th>162</th>\n",
       "      <td>not encorag not depress peopl tri anyth anyon ...</td>\n",
       "      <td>12</td>\n",
       "      <td>keep, go, thing, aliv, tri, not, reason, find,...</td>\n",
       "      <td>True</td>\n",
       "      <td>False</td>\n",
       "      <td>False</td>\n",
       "      <td>False</td>\n",
       "      <td>False</td>\n",
       "      <td>False</td>\n",
       "      <td>False</td>\n",
       "      <td>True</td>\n",
       "      <td>True</td>\n",
       "      <td>[depress, -3, mental, -16]</td>\n",
       "    </tr>\n",
       "    <tr>\n",
       "      <th>270</th>\n",
       "      <td>mental ill peopl deserv treat peopl not pawn a...</td>\n",
       "      <td>12</td>\n",
       "      <td>keep, go, thing, aliv, tri, not, reason, find,...</td>\n",
       "      <td>False</td>\n",
       "      <td>False</td>\n",
       "      <td>False</td>\n",
       "      <td>False</td>\n",
       "      <td>False</td>\n",
       "      <td>False</td>\n",
       "      <td>False</td>\n",
       "      <td>True</td>\n",
       "      <td>True</td>\n",
       "      <td>[mental, 6]</td>\n",
       "    </tr>\n",
       "    <tr>\n",
       "      <th>282</th>\n",
       "      <td>not know want achiev post hope someon els help...</td>\n",
       "      <td>12</td>\n",
       "      <td>keep, go, thing, aliv, tri, not, reason, find,...</td>\n",
       "      <td>False</td>\n",
       "      <td>False</td>\n",
       "      <td>True</td>\n",
       "      <td>False</td>\n",
       "      <td>False</td>\n",
       "      <td>False</td>\n",
       "      <td>False</td>\n",
       "      <td>False</td>\n",
       "      <td>True</td>\n",
       "      <td>[help, -8]</td>\n",
       "    </tr>\n",
       "    <tr>\n",
       "      <th>653</th>\n",
       "      <td>parent agre go away school theyv chang mind no...</td>\n",
       "      <td>12</td>\n",
       "      <td>keep, go, thing, aliv, tri, not, reason, find,...</td>\n",
       "      <td>False</td>\n",
       "      <td>False</td>\n",
       "      <td>False</td>\n",
       "      <td>True</td>\n",
       "      <td>False</td>\n",
       "      <td>False</td>\n",
       "      <td>False</td>\n",
       "      <td>False</td>\n",
       "      <td>True</td>\n",
       "      <td>[kill, -3]</td>\n",
       "    </tr>\n",
       "    <tr>\n",
       "      <th>...</th>\n",
       "      <td>...</td>\n",
       "      <td>...</td>\n",
       "      <td>...</td>\n",
       "      <td>...</td>\n",
       "      <td>...</td>\n",
       "      <td>...</td>\n",
       "      <td>...</td>\n",
       "      <td>...</td>\n",
       "      <td>...</td>\n",
       "      <td>...</td>\n",
       "      <td>...</td>\n",
       "      <td>...</td>\n",
       "      <td>...</td>\n",
       "    </tr>\n",
       "    <tr>\n",
       "      <th>99982</th>\n",
       "      <td>not sure whether depress normal person rant</td>\n",
       "      <td>19</td>\n",
       "      <td>sure, not, depress, feel, go, realli, help, an...</td>\n",
       "      <td>True</td>\n",
       "      <td>False</td>\n",
       "      <td>False</td>\n",
       "      <td>False</td>\n",
       "      <td>False</td>\n",
       "      <td>False</td>\n",
       "      <td>False</td>\n",
       "      <td>False</td>\n",
       "      <td>True</td>\n",
       "      <td>[depress, -3]</td>\n",
       "    </tr>\n",
       "    <tr>\n",
       "      <th>99985</th>\n",
       "      <td>not sure put seek help</td>\n",
       "      <td>19</td>\n",
       "      <td>sure, not, depress, feel, go, realli, help, an...</td>\n",
       "      <td>False</td>\n",
       "      <td>False</td>\n",
       "      <td>True</td>\n",
       "      <td>False</td>\n",
       "      <td>False</td>\n",
       "      <td>False</td>\n",
       "      <td>False</td>\n",
       "      <td>False</td>\n",
       "      <td>True</td>\n",
       "      <td>[help, -4]</td>\n",
       "    </tr>\n",
       "    <tr>\n",
       "      <th>99987</th>\n",
       "      <td>not sure actual depress still get help</td>\n",
       "      <td>19</td>\n",
       "      <td>sure, not, depress, feel, go, realli, help, an...</td>\n",
       "      <td>True</td>\n",
       "      <td>False</td>\n",
       "      <td>True</td>\n",
       "      <td>False</td>\n",
       "      <td>False</td>\n",
       "      <td>False</td>\n",
       "      <td>False</td>\n",
       "      <td>False</td>\n",
       "      <td>True</td>\n",
       "      <td>[depress, -3, help, -6]</td>\n",
       "    </tr>\n",
       "    <tr>\n",
       "      <th>99994</th>\n",
       "      <td>think may depress not sure anyon help</td>\n",
       "      <td>19</td>\n",
       "      <td>sure, not, depress, feel, go, realli, help, an...</td>\n",
       "      <td>True</td>\n",
       "      <td>False</td>\n",
       "      <td>True</td>\n",
       "      <td>False</td>\n",
       "      <td>False</td>\n",
       "      <td>False</td>\n",
       "      <td>False</td>\n",
       "      <td>False</td>\n",
       "      <td>True</td>\n",
       "      <td>[depress, 1, help, -3]</td>\n",
       "    </tr>\n",
       "    <tr>\n",
       "      <th>99996</th>\n",
       "      <td>not sure depress</td>\n",
       "      <td>19</td>\n",
       "      <td>sure, not, depress, feel, go, realli, help, an...</td>\n",
       "      <td>True</td>\n",
       "      <td>False</td>\n",
       "      <td>False</td>\n",
       "      <td>False</td>\n",
       "      <td>False</td>\n",
       "      <td>False</td>\n",
       "      <td>False</td>\n",
       "      <td>False</td>\n",
       "      <td>True</td>\n",
       "      <td>[depress, -2]</td>\n",
       "    </tr>\n",
       "  </tbody>\n",
       "</table>\n",
       "<p>6375 rows × 13 columns</p>\n",
       "</div>"
      ],
      "text/plain": [
       "                                             Filter_data cluster  \\\n",
       "37           there not hold back form die arent dead yet      18   \n",
       "162    not encorag not depress peopl tri anyth anyon ...      12   \n",
       "270    mental ill peopl deserv treat peopl not pawn a...      12   \n",
       "282    not know want achiev post hope someon els help...      12   \n",
       "653    parent agre go away school theyv chang mind no...      12   \n",
       "...                                                  ...     ...   \n",
       "99982        not sure whether depress normal person rant      19   \n",
       "99985                             not sure put seek help      19   \n",
       "99987             not sure actual depress still get help      19   \n",
       "99994              think may depress not sure anyon help      19   \n",
       "99996                                   not sure depress      19   \n",
       "\n",
       "                                     final_cluster_words depress    die  \\\n",
       "37     keep, go, thing, aliv, tri, not, reason, find,...   False   True   \n",
       "162    keep, go, thing, aliv, tri, not, reason, find,...    True  False   \n",
       "270    keep, go, thing, aliv, tri, not, reason, find,...   False  False   \n",
       "282    keep, go, thing, aliv, tri, not, reason, find,...   False  False   \n",
       "653    keep, go, thing, aliv, tri, not, reason, find,...   False  False   \n",
       "...                                                  ...     ...    ...   \n",
       "99982  sure, not, depress, feel, go, realli, help, an...    True  False   \n",
       "99985  sure, not, depress, feel, go, realli, help, an...   False  False   \n",
       "99987  sure, not, depress, feel, go, realli, help, an...    True  False   \n",
       "99994  sure, not, depress, feel, go, realli, help, an...    True  False   \n",
       "99996  sure, not, depress, feel, go, realli, help, an...    True  False   \n",
       "\n",
       "        help   kill suicid   life  happi mental   not  \\\n",
       "37     False  False  False  False  False  False  True   \n",
       "162    False  False  False  False  False   True  True   \n",
       "270    False  False  False  False  False   True  True   \n",
       "282     True  False  False  False  False  False  True   \n",
       "653    False   True  False  False  False  False  True   \n",
       "...      ...    ...    ...    ...    ...    ...   ...   \n",
       "99982  False  False  False  False  False  False  True   \n",
       "99985   True  False  False  False  False  False  True   \n",
       "99987   True  False  False  False  False  False  True   \n",
       "99994   True  False  False  False  False  False  True   \n",
       "99996  False  False  False  False  False  False  True   \n",
       "\n",
       "                         distance  \n",
       "37                      [die, -4]  \n",
       "162    [depress, -3, mental, -16]  \n",
       "270                   [mental, 6]  \n",
       "282                    [help, -8]  \n",
       "653                    [kill, -3]  \n",
       "...                           ...  \n",
       "99982               [depress, -3]  \n",
       "99985                  [help, -4]  \n",
       "99987     [depress, -3, help, -6]  \n",
       "99994      [depress, 1, help, -3]  \n",
       "99996               [depress, -2]  \n",
       "\n",
       "[6375 rows x 13 columns]"
      ]
     },
     "execution_count": 114,
     "metadata": {},
     "output_type": "execute_result"
    }
   ],
   "source": [
    "df_final_dis[~df_final_dis['distance'].isna()][filter(lambda x:not x.endswith('index'),df_final_dis.columns)]"
   ]
  },
  {
   "cell_type": "code",
   "execution_count": 115,
   "metadata": {},
   "outputs": [
    {
     "name": "stderr",
     "output_type": "stream",
     "text": [
      "[nltk_data] Downloading package stopwords to\n",
      "[nltk_data]     C:\\Users\\piyus\\AppData\\Roaming\\nltk_data...\n",
      "[nltk_data]   Package stopwords is already up-to-date!\n"
     ]
    }
   ],
   "source": [
    "import gensim\n",
    "from gensim.utils import simple_preprocess\n",
    "import nltk\n",
    "nltk.download('stopwords')\n",
    "from nltk.corpus import stopwords"
   ]
  },
  {
   "cell_type": "code",
   "execution_count": 119,
   "metadata": {},
   "outputs": [],
   "source": [
    "def sent_to_words(sentences):\n",
    "    for sentence in sentences:\n",
    "        yield(gensim.utils.simple_preprocess(str(sentence), deacc=True))\n",
    "\n",
    "def remove_stopwords(texts):\n",
    "    return [[word for word in simple_preprocess(str(doc)) \n",
    "             if word not in stop_words] for doc in texts]"
   ]
  },
  {
   "cell_type": "code",
   "execution_count": 131,
   "metadata": {},
   "outputs": [],
   "source": [
    "# [nltk.word_tokenize(i) for i in df_final_dis.Filter_data.to_list()]"
   ]
  },
  {
   "cell_type": "code",
   "execution_count": 188,
   "metadata": {},
   "outputs": [
    {
     "data": {
      "text/plain": [
       "0                        start stresssleep\n",
       "1                        plan go back work\n",
       "2                    holiday absolut worst\n",
       "3    foreign usa not go back home homeless\n",
       "4                              wait someth\n",
       "5                                    happi\n",
       "6                     antidepress question\n",
       "7                             youv everyth\n",
       "8                                       hi\n",
       "9                      urg bad thing scare\n",
       "Name: Filter_data, dtype: object"
      ]
     },
     "execution_count": 188,
     "metadata": {},
     "output_type": "execute_result"
    }
   ],
   "source": [
    "df_final_dis.Filter_data.head(10)"
   ]
  },
  {
   "cell_type": "code",
   "execution_count": 186,
   "metadata": {},
   "outputs": [
    {
     "data": {
      "text/plain": [
       "0    start stresssleep\n",
       "1            plan work\n",
       "2              holiday\n",
       "3        home homeless\n",
       "4          wait someth\n",
       "5                happi\n",
       "6             question\n",
       "7         youv everyth\n",
       "8                   hi\n",
       "9          thing scare\n",
       "Name: Filter_data, dtype: object"
      ]
     },
     "execution_count": 186,
     "metadata": {},
     "output_type": "execute_result"
    }
   ],
   "source": [
    "def return_NN(x):\n",
    "    return ' '.join([i[0] for i in nltk.pos_tag(nltk.word_tokenize(x)) if i[1]=='NN'])"
   ]
  },
  {
   "cell_type": "code",
   "execution_count": 191,
   "metadata": {},
   "outputs": [
    {
     "data": {
      "application/vnd.jupyter.widget-view+json": {
       "model_id": "85f23e5d11764671b839ef09ee2efa95",
       "version_major": 2,
       "version_minor": 0
      },
      "text/plain": [
       "HBox(children=(HTML(value=''), FloatProgress(value=0.0, max=100000.0), HTML(value='')))"
      ]
     },
     "metadata": {},
     "output_type": "display_data"
    },
    {
     "name": "stdout",
     "output_type": "stream",
     "text": [
      "\n",
      "['start', 'stresssleep']\n"
     ]
    }
   ],
   "source": [
    "data = df_final_dis.Filter_data.progress_apply(lambda x:return_NN(x)).values.tolist()\n",
    "data_words = list(sent_to_words(data))\n",
    "print(data_words[:1][0][:30])"
   ]
  },
  {
   "cell_type": "code",
   "execution_count": 192,
   "metadata": {},
   "outputs": [],
   "source": [
    "import gensim.corpora as corpora\n",
    "id2word = corpora.Dictionary(data_words)\n",
    "texts = data_words\n",
    "\n",
    "# # Term Document Frequency\n",
    "corpus = [id2word.doc2bow(text) for text in texts]\n",
    "\n",
    "# # View\n",
    "# print(corpus[:1][0][:30])"
   ]
  },
  {
   "cell_type": "code",
   "execution_count": 193,
   "metadata": {},
   "outputs": [
    {
     "data": {
      "text/plain": [
       "{0: 'start',\n",
       " 1: 'stresssleep',\n",
       " 2: 'back',\n",
       " 3: 'go',\n",
       " 4: 'plan',\n",
       " 5: 'work',\n",
       " 6: 'absolut',\n",
       " 7: 'holiday'}"
      ]
     },
     "execution_count": 193,
     "metadata": {},
     "output_type": "execute_result"
    }
   ],
   "source": [
    "{0: 'start',\n",
    " 1: 'stresssleep',\n",
    " 2: 'back',\n",
    " 3: 'go',\n",
    " 4: 'plan',\n",
    " 5: 'work',\n",
    " 6: 'absolut',\n",
    " 7: 'holiday'}"
   ]
  },
  {
   "cell_type": "code",
   "execution_count": 194,
   "metadata": {},
   "outputs": [],
   "source": [
    "texts[3];"
   ]
  },
  {
   "cell_type": "code",
   "execution_count": 195,
   "metadata": {},
   "outputs": [],
   "source": [
    "corpus[3];"
   ]
  },
  {
   "cell_type": "code",
   "execution_count": 196,
   "metadata": {},
   "outputs": [],
   "source": [
    "corpus;"
   ]
  },
  {
   "cell_type": "code",
   "execution_count": 197,
   "metadata": {},
   "outputs": [
    {
     "name": "stdout",
     "output_type": "stream",
     "text": [
      "[(0,\n",
      "  '0.147*\"anyon\" + 0.041*\"look\" + 0.036*\"hope\" + 0.030*\"plan\" + 0.023*\"kind\" + '\n",
      "  '0.021*\"commit\" + 0.021*\"support\" + 0.019*\"hurt\" + 0.017*\"futur\" + '\n",
      "  '0.016*\"littl\"'),\n",
      " (1,\n",
      "  '0.462*\"life\" + 0.108*\"feel\" + 0.091*\"kill\" + 0.046*\"depress\" + '\n",
      "  '0.039*\"reason\" + 0.022*\"get\" + 0.015*\"care\" + 0.010*\"lone\" + 0.010*\"guy\" + '\n",
      "  '0.007*\"reddit\"'),\n",
      " (2,\n",
      "  '0.104*\"depress\" + 0.086*\"realli\" + 0.061*\"person\" + 0.057*\"post\" + '\n",
      "  '0.044*\"hate\" + 0.043*\"pain\" + 0.030*\"tonight\" + 0.027*\"everyon\" + '\n",
      "  '0.025*\"month\" + 0.023*\"struggl\"'),\n",
      " (3,\n",
      "  '0.129*\"depress\" + 0.088*\"tire\" + 0.071*\"live\" + 0.056*\"think\" + '\n",
      "  '0.050*\"anxieti\" + 0.029*\"problem\" + 0.023*\"birthday\" + 0.021*\"sever\" + '\n",
      "  '0.019*\"alreadi\" + 0.017*\"rant\"'),\n",
      " (4,\n",
      "  '0.192*\"someon\" + 0.173*\"talk\" + 0.084*\"depress\" + 0.031*\"girlfriend\" + '\n",
      "  '0.030*\"world\" + 0.025*\"alon\" + 0.024*\"tell\" + 0.018*\"chang\" + '\n",
      "  '0.016*\"famili\" + 0.014*\"peopl\"'),\n",
      " (5,\n",
      "  '0.208*\"fuck\" + 0.095*\"die\" + 0.078*\"friend\" + 0.065*\"suicid\" + 0.062*\"want\" '\n",
      "  '+ 0.050*\"peopl\" + 0.028*\"parent\" + 0.025*\"death\" + 0.025*\"everyth\" + '\n",
      "  '0.023*\"deal\"'),\n",
      " (6,\n",
      "  '0.325*\"help\" + 0.306*\"depress\" + 0.018*\"scare\" + 0.018*\"school\" + '\n",
      "  '0.014*\"stop\" + 0.013*\"shit\" + 0.009*\"stori\" + 0.008*\"possibl\" + '\n",
      "  '0.007*\"make\" + 0.006*\"word\"'),\n",
      " (7,\n",
      "  '0.193*\"need\" + 0.128*\"life\" + 0.111*\"end\" + 0.070*\"thing\" + 0.055*\"tri\" + '\n",
      "  '0.053*\"year\" + 0.029*\"depress\" + 0.024*\"job\" + 0.019*\"right\" + 0.017*\"day\"'),\n",
      " (8,\n",
      "  '0.167*\"anymor\" + 0.115*\"depress\" + 0.038*\"ruin\" + 0.037*\"work\" + '\n",
      "  '0.033*\"relationship\" + 0.031*\"happi\" + 0.029*\"love\" + 0.027*\"colleg\" + '\n",
      "  '0.023*\"ill\" + 0.022*\"sometim\"'),\n",
      " (9,\n",
      "  '0.060*\"start\" + 0.041*\"night\" + 0.036*\"advic\" + 0.033*\"idea\" + 0.032*\"cri\" '\n",
      "  '+ 0.029*\"question\" + 0.028*\"caus\" + 0.026*\"somebodi\" + 0.025*\"pointless\" + '\n",
      "  '0.024*\"attempt\"')]\n"
     ]
    }
   ],
   "source": [
    "from pprint import pprint\n",
    "# number of topics\n",
    "num_topics = 10\n",
    "# Build LDA model\n",
    "lda_model = gensim.models.LdaModel(corpus=corpus,\n",
    "                                       id2word=id2word,\n",
    "                                       num_topics=num_topics)\n"
   ]
  },
  {
   "cell_type": "code",
   "execution_count": 202,
   "metadata": {},
   "outputs": [
    {
     "name": "stdout",
     "output_type": "stream",
     "text": [
      "[(3,\n",
      "  '0.129*\"depress\" + 0.088*\"tire\" + 0.071*\"live\" + 0.056*\"think\" + '\n",
      "  '0.050*\"anxieti\" + 0.029*\"problem\" + 0.023*\"birthday\" + 0.021*\"sever\" + '\n",
      "  '0.019*\"alreadi\" + 0.017*\"rant\" + 0.016*\"part\" + 0.015*\"thought\" + '\n",
      "  '0.015*\"dae\" + 0.012*\"joke\" + 0.011*\"treatment\" + 0.010*\"see\" + 0.010*\"game\" '\n",
      "  '+ 0.010*\"subreddit\" + 0.009*\"bit\" + 0.009*\"watch\" + 0.008*\"guess\" + '\n",
      "  '0.008*\"term\" + 0.008*\"go\" + 0.007*\"hi\" + 0.007*\"sort\" + 0.007*\"drop\" + '\n",
      "  '0.007*\"button\" + 0.007*\"enjoy\" + 0.006*\"attack\" + 0.006*\"xpost\"'),\n",
      " (8,\n",
      "  '0.167*\"anymor\" + 0.115*\"depress\" + 0.038*\"ruin\" + 0.037*\"work\" + '\n",
      "  '0.033*\"relationship\" + 0.031*\"happi\" + 0.029*\"love\" + 0.027*\"colleg\" + '\n",
      "  '0.023*\"ill\" + 0.022*\"sometim\" + 0.020*\"everi\" + 0.019*\"fall\" + 0.019*\"turn\" '\n",
      "  '+ 0.018*\"anyth\" + 0.017*\"vent\" + 0.015*\"peopl\" + 0.013*\"share\" + '\n",
      "  '0.012*\"break\" + 0.011*\"doctor\" + 0.010*\"mani\" + 0.010*\"issu\" + '\n",
      "  '0.010*\"anybodi\" + 0.009*\"experi\" + 0.009*\"disord\" + 0.008*\"amp\" + '\n",
      "  '0.008*\"bore\" + 0.007*\"partner\" + 0.007*\"treat\" + 0.007*\"cycl\" + '\n",
      "  '0.006*\"student\"'),\n",
      " (6,\n",
      "  '0.325*\"help\" + 0.306*\"depress\" + 0.018*\"scare\" + 0.018*\"school\" + '\n",
      "  '0.014*\"stop\" + 0.013*\"shit\" + 0.009*\"stori\" + 0.008*\"possibl\" + '\n",
      "  '0.007*\"make\" + 0.006*\"word\" + 0.006*\"girl\" + 0.006*\"miser\" + 0.005*\"mayb\" + '\n",
      "  '0.005*\"drug\" + 0.005*\"use\" + 0.005*\"sleep\" + 0.005*\"destroy\" + 0.005*\"self\" '\n",
      "  '+ 0.005*\"hopeless\" + 0.004*\"antidepress\" + 0.004*\"move\" + 0.004*\"slowli\" + '\n",
      "  '0.004*\"push\" + 0.004*\"interest\" + 0.004*\"alcohol\" + 0.004*\"health\" + '\n",
      "  '0.004*\"way\" + 0.003*\"function\" + 0.003*\"tip\" + 0.003*\"mood\"'),\n",
      " (5,\n",
      "  '0.208*\"fuck\" + 0.095*\"die\" + 0.078*\"friend\" + 0.065*\"suicid\" + 0.062*\"want\" '\n",
      "  '+ 0.050*\"peopl\" + 0.028*\"parent\" + 0.025*\"death\" + 0.025*\"everyth\" + '\n",
      "  '0.023*\"deal\" + 0.017*\"suffer\" + 0.013*\"suck\" + 0.012*\"becom\" + '\n",
      "  '0.011*\"boyfriend\" + 0.010*\"hell\" + 0.009*\"option\" + 0.008*\"worthless\" + '\n",
      "  '0.008*\"sad\" + 0.007*\"quit\" + 0.006*\"cut\" + 0.006*\"stay\" + 0.006*\"brother\" + '\n",
      "  '0.005*\"shouldnt\" + 0.005*\"god\" + 0.005*\"consid\" + 0.005*\"horribl\" + '\n",
      "  '0.005*\"famili\" + 0.005*\"mean\" + 0.004*\"exist\" + 0.004*\"pathet\"'),\n",
      " (4,\n",
      "  '0.192*\"someon\" + 0.173*\"talk\" + 0.084*\"depress\" + 0.031*\"girlfriend\" + '\n",
      "  '0.030*\"world\" + 0.025*\"alon\" + 0.024*\"tell\" + 0.018*\"chang\" + '\n",
      "  '0.016*\"famili\" + 0.014*\"peopl\" + 0.013*\"wasnt\" + 0.011*\"home\" + '\n",
      "  '0.009*\"empti\" + 0.009*\"lack\" + 0.009*\"yesterday\" + 0.008*\"reach\" + '\n",
      "  '0.007*\"bodi\" + 0.007*\"insid\" + 0.006*\"music\" + 0.006*\"abus\" + '\n",
      "  '0.006*\"symptom\" + 0.005*\"heart\" + 0.005*\"cancer\" + 0.005*\"face\" + '\n",
      "  '0.005*\"step\" + 0.005*\"miss\" + 0.005*\"stuff\" + 0.005*\"end\" + 0.005*\"desper\" '\n",
      "  '+ 0.005*\"christma\"')]\n"
     ]
    }
   ],
   "source": [
    "# Print the Keyword in the 10 topics\n",
    "pprint(lda_model.print_topics(num_topics=5,num_words=30))\n",
    "doc_lda = lda_model[corpus]"
   ]
  },
  {
   "cell_type": "code",
   "execution_count": null,
   "metadata": {},
   "outputs": [],
   "source": []
  }
 ],
 "metadata": {
  "kernelspec": {
   "display_name": "Python 3",
   "language": "python",
   "name": "python3"
  },
  "language_info": {
   "codemirror_mode": {
    "name": "ipython",
    "version": 3
   },
   "file_extension": ".py",
   "mimetype": "text/x-python",
   "name": "python",
   "nbconvert_exporter": "python",
   "pygments_lexer": "ipython3",
   "version": "3.8.5"
  }
 },
 "nbformat": 4,
 "nbformat_minor": 4
}
